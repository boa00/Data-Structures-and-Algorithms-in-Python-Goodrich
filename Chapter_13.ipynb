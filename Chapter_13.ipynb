{
 "cells": [
  {
   "cell_type": "markdown",
   "metadata": {},
   "source": [
    "# Chapter 13. Text Processing"
   ]
  },
  {
   "cell_type": "markdown",
   "metadata": {},
   "source": [
    "The chapter focuses on classical string algorithms (Boyer–Moore, Knuth–Morris–Pratt, etc.), and also introduces the concept of dynamic programming."
   ]
  },
  {
   "cell_type": "markdown",
   "metadata": {},
   "source": [
    "## Importand Algorithms and Data Structures"
   ]
  },
  {
   "cell_type": "code",
   "execution_count": 2,
   "metadata": {},
   "outputs": [],
   "source": [
    "# Substring Search, brute force search\n",
    "def brute(T, P):\n",
    "    n = len(T) - len(P) + 1\n",
    "    for i in range(n):\n",
    "        j = 0\n",
    "        while j < len(P):\n",
    "            if P[j] != T[i+j]:\n",
    "                break\n",
    "            j += 1\n",
    "        if j == len(P):\n",
    "            return i\n",
    "    return -1\n",
    "\n",
    "# text book simplified version of the Boyer–Moore string-search algorithm \n",
    "# which results in O(nm) worst case, the same as brute force, but on average it's better\n",
    "# m - length of the substring, n - length of the whole string\n",
    "def boyer_moore(s, sub_s):\n",
    "    n, m = len(s), len(sub_s)\n",
    "    last = {}\n",
    "    for i in range(m):\n",
    "        last[ sub_s[i] ] = i\n",
    "    i = m - 1\n",
    "    j = m - 1\n",
    "    while i < n:\n",
    "        if s[i] == sub_s[j]:\n",
    "            if j == 0:\n",
    "                return i\n",
    "            else:\n",
    "                i -= 1\n",
    "                j -= 1\n",
    "        else:\n",
    "            k = last.get(s[i], -1)\n",
    "            i += m - min(j, k + 1) # very smart trick here which saves infinitely many lines of code\n",
    "            j = m - 1\n",
    "    return -1\n",
    "\n",
    "# Knuth–Morris–Pratt string searching algorithm, O(n+m) time complexity\n",
    "def fail_function(A):\n",
    "    n = len(A)\n",
    "    fail = [0] * n\n",
    "    j = 1\n",
    "    k = 0\n",
    "    while j < n:\n",
    "        if A[j] == A[k]:\n",
    "            fail[j] = k + 1\n",
    "            j += 1\n",
    "            k += 1\n",
    "        elif k > 0:\n",
    "            k = fail[k-1] # OK, I've tried many times but still didn't get it, we could use k=0 and it still works...\n",
    "        else:\n",
    "            j += 1\n",
    "    return fail\n",
    "\n",
    "def kpm(T, P):\n",
    "    n, m = len(T), len(P)\n",
    "    if m == 0:\n",
    "        return 0\n",
    "    fail = fail_function(P)\n",
    "    j = 0\n",
    "    k = 0\n",
    "    while j < n:\n",
    "        if T[j] == P[k]:\n",
    "            if k == m-1:\n",
    "                return j - m + 1\n",
    "            j += 1\n",
    "            k += 1\n",
    "        elif k > 0:\n",
    "            k = fail[k-1]\n",
    "        else:\n",
    "            j += 1\n",
    "    return -1\n",
    "\n",
    "# Longest Common Subsequence problem\n",
    "\n",
    "# brute force version, exponential time\n",
    "def lcs_brute(S1, S2, i=0, j=0):\n",
    "    if i == len(S1) or j == len(S2):\n",
    "        return 0\n",
    "    elif S1[i] == S2[j]:\n",
    "        return 1 + lcs(S1, S2, i+1, j+1)\n",
    "    else:\n",
    "        return max(lcs(S1, S2, i, j+1), lcs(S1, S2, i+1))\n",
    "\n",
    "# dynamic programmin silution, O(nm) time-complexity\n",
    "def lcs(S1, S2):\n",
    "    n, m = len(S1), len(S2)\n",
    "    table = [[0]*(m+1) for i in range(n+1)]\n",
    "    for i in range(n):\n",
    "        for j in range(m):\n",
    "            if S1[i] == S2[j]:\n",
    "                table[i+1][j+1] = 1 + table[i][j]\n",
    "            else:\n",
    "                table[i+1][j+1] = max(table[i+1][j], table[i][j+1])\n",
    "    return table[-1][-1]\n"
   ]
  },
  {
   "cell_type": "markdown",
   "metadata": {},
   "source": [
    "## Reinforcement "
   ]
  },
  {
   "cell_type": "markdown",
   "metadata": {},
   "source": [
    "### R-13.1"
   ]
  },
  {
   "cell_type": "markdown",
   "metadata": {},
   "source": [
    "List the prefixes of the string ${P=}$ \"${aaabbaaa}$\" that are also suffixes of ${P}$."
   ]
  },
  {
   "cell_type": "code",
   "execution_count": 3,
   "metadata": {},
   "outputs": [],
   "source": [
    "# Suf = a, aa, aaa, baaa, bbaaa, abbaaa, aabbaaa, aaabbaaa\n",
    "# pref = a, aa, aaa, aaa, aaab, aaabb, aaabba, aaabbaa, aaabbaaa\n",
    "# common: a, aa, aaa, aaabbaaa\n",
    "# the difference that it's just a prefix/suffix, which means it could include the whole word\n",
    "# proper suffix/prefix is maximum len(word) - 1 \n"
   ]
  },
  {
   "cell_type": "markdown",
   "metadata": {},
   "source": [
    "### R-13.2"
   ]
  },
  {
   "cell_type": "markdown",
   "metadata": {},
   "source": [
    "What is the longest (proper) prefix of the string \"${cgtacgttcgtacg}$\" that is also a suffix of this string?"
   ]
  },
  {
   "cell_type": "code",
   "execution_count": 4,
   "metadata": {},
   "outputs": [],
   "source": [
    "# cgtacgttcgtacg suf = g, cg, acg, tacg, gtacg, cgtacg(!), tcgtacg, ttcgtacg, gttcgtacg\n",
    "# cgttcgtacg, acgttcgtacg, tacgttcgtacg, gtacgttcgtacg\n",
    "\n",
    "# pref = c, cg, cgt, cgta, cgtac, cgtacg(!), cgtacgt, cgtacgtt, cgtacgttc, cgtacgttcg, cgtacgttcgt,\n",
    "# cgtacgttcgta, cgtacgttcgtac\n",
    "\n",
    "# largest common - cgtacg\n"
   ]
  },
  {
   "cell_type": "markdown",
   "metadata": {},
   "source": [
    "### R-13.7"
   ]
  },
  {
   "cell_type": "markdown",
   "metadata": {},
   "source": [
    "Compute a table representing the Knuth-Morris-Pratt failure function for the pattern string \"${cgtacgttcgtac}$\"."
   ]
  },
  {
   "cell_type": "code",
   "execution_count": 5,
   "metadata": {},
   "outputs": [],
   "source": [
    "# c g t a c g t t c g t a c\n",
    "# 0 0 0 0 1 2 3 0 1 2 3 4 5\n"
   ]
  },
  {
   "cell_type": "markdown",
   "metadata": {},
   "source": [
    "## Creativity "
   ]
  },
  {
   "cell_type": "markdown",
   "metadata": {},
   "source": [
    "### C-13.16"
   ]
  },
  {
   "cell_type": "markdown",
   "metadata": {},
   "source": [
    "Adapt the brute-force pattern-matching algorithm in order to implement a function, rfind_brute(T,P), that returns the index at which the rightmost occurrence of pattern ${P}$ within text ${T}$, if any."
   ]
  },
  {
   "cell_type": "code",
   "execution_count": 6,
   "metadata": {},
   "outputs": [],
   "source": [
    "def rfind_brute(T, P):\n",
    "    index = -1\n",
    "    n = len(T) - len(P) + 1\n",
    "    for i in range(n):\n",
    "        j = 0\n",
    "        while j < len(P):\n",
    "            if P[j] != T[i+j]:\n",
    "                break\n",
    "            j += 1\n",
    "        if j == len(P):\n",
    "            index = i\n",
    "    return index\n"
   ]
  },
  {
   "cell_type": "markdown",
   "metadata": {},
   "source": [
    "### C-13.18"
   ]
  },
  {
   "cell_type": "markdown",
   "metadata": {},
   "source": [
    "Redo Exercise C-13.16, adapting the Knuth-Morris-Pratt pattern-matching algorithm appropriately to implement a function rfind_kmp(T,P)."
   ]
  },
  {
   "cell_type": "code",
   "execution_count": 8,
   "metadata": {},
   "outputs": [],
   "source": [
    "def rfind_kpm(T, P):\n",
    "    index = -1\n",
    "    n, m = len(T), len(P)\n",
    "    if m == 0:\n",
    "        return 0\n",
    "    fail = fail_function(P)\n",
    "    j = 0\n",
    "    k = 0\n",
    "    while j < n:\n",
    "        if T[j] == P[k]:\n",
    "            if k == m-1:\n",
    "                index = j - m + 1\n",
    "                j+= 1\n",
    "                k = 0\n",
    "            else:\n",
    "                j += 1\n",
    "                k += 1\n",
    "        elif k > 0:\n",
    "            k = fail[k-1]\n",
    "        else:\n",
    "            j += 1\n",
    "    return index\n"
   ]
  },
  {
   "cell_type": "markdown",
   "metadata": {},
   "source": [
    "### C-13.19"
   ]
  },
  {
   "cell_type": "markdown",
   "metadata": {},
   "source": [
    "The count method of Python’s str class reports the maximum number of nonoverlapping occurrences of a pattern within a string. For example, the call 'abababa'.count('aba') returns 2 (not 3). Adapt the brute-force pattern-matching algorithm to implement a function, count_brute(T,P), with similar outcome."
   ]
  },
  {
   "cell_type": "code",
   "execution_count": 10,
   "metadata": {},
   "outputs": [],
   "source": [
    "def count_brute(T, P):\n",
    "    counter = 0 \n",
    "    n = len(T) - len(P) + 1\n",
    "    i = 0\n",
    "    while i < n:\n",
    "        j = 0\n",
    "        while j < len(P):\n",
    "            if P[j] != T[i+j]:\n",
    "                break\n",
    "            j += 1\n",
    "        if j == len(P):\n",
    "            counter += 1\n",
    "            i += len(P)\n",
    "        else:\n",
    "            i+= 1\n",
    "    return counter\n"
   ]
  },
  {
   "cell_type": "markdown",
   "metadata": {},
   "source": [
    "### C-13.21"
   ]
  },
  {
   "cell_type": "markdown",
   "metadata": {},
   "source": [
    "Redo Exercise C-13.19, adapting the Knuth-Morris-Pratt pattern-matching lgorithm appropriately to implement a function count_kmp(T,P)."
   ]
  },
  {
   "cell_type": "code",
   "execution_count": 11,
   "metadata": {},
   "outputs": [],
   "source": [
    "def count_kpm(T, P):\n",
    "    counter = 0\n",
    "    n, m = len(T), len(P)\n",
    "    if m == 0:\n",
    "        return 0\n",
    "    fail = fail_function(P)\n",
    "    j = 0\n",
    "    k = 0\n",
    "    while j < n:\n",
    "        if T[j] == P[k]:\n",
    "            if k == m-1:\n",
    "                counter += 1\n",
    "                j += 1\n",
    "                continue\n",
    "            j += 1\n",
    "            k += 1\n",
    "        elif k > 0:\n",
    "            k = fail[k-1]\n",
    "        else:\n",
    "            j += 1\n",
    "    return counter\n"
   ]
  },
  {
   "cell_type": "markdown",
   "metadata": {},
   "source": [
    "### C-13.27"
   ]
  },
  {
   "cell_type": "markdown",
   "metadata": {},
   "source": [
    "Design an efficient algorithm for the matrix chain multiplication problem that outputs a fully parenthesized expression for how to multiply the matrices in the chain using the minimum number of operations."
   ]
  },
  {
   "cell_type": "code",
   "execution_count": 17,
   "metadata": {},
   "outputs": [
    {
     "name": "stdout",
     "output_type": "stream",
     "text": [
      "[[0, 0, 0, 0, 0], [0, 0, 24, 28, 58], [0, 0, 0, 16, 36], [0, 0, 0, 0, 40], [0, 0, 0, 0, 0]]\n"
     ]
    }
   ],
   "source": [
    "# well I guess the text book aproach also works, and it has less code\n",
    "# but here is mine\n",
    "# time complexity: O(n^3)\n",
    "# space complexity: O(n^2)\n",
    "\n",
    "# very smart trick with loops in the middle: first compute |i - j| = 1, then |i - j| = 2, |i - j| = 3 etc.\n",
    "# basically L is the number of matrixes multiplied\n",
    "# input example: ex = [3, 2, 4, 2, 5] means A1(2x3) * A2(3x4) * A3(4x2), e.g. these are 4 dimensions\n",
    "def matrix_chain(m):\n",
    "    n = len(m)\n",
    "    table = [[0]*n for i in range(n)]\n",
    "    for L in range(2, n):\n",
    "        for i in range(1, n-L+1):      \n",
    "            j = i+L-1\n",
    "            maximum = 123456789\n",
    "            for k in range(i, j):\n",
    "                if maximum > table[i][k] + table[k+1][j] + m[i-1]*m[k]*m[j]:\n",
    "                    maximum = table[i][k] + table[k+1][j] + m[i-1]*m[k]*m[j]\n",
    "            table[i][j] = maximum\n",
    "    return table\n",
    "\n",
    "ex = [3, 2, 4, 2, 5] # A1(2x3) * A2(3x4) * A3(4x2), e.g. these are 4 dimensions\n",
    "print(matrix_chain(ex))"
   ]
  },
  {
   "cell_type": "code",
   "execution_count": null,
   "metadata": {},
   "outputs": [],
   "source": []
  },
  {
   "cell_type": "markdown",
   "metadata": {},
   "source": [
    "### C-13.29"
   ]
  },
  {
   "cell_type": "markdown",
   "metadata": {},
   "source": [
    "Describe an efficient greedy algorithm for making change for a specified value using a minimum number of coins, assuming there are four denominations of coins (called quarters, dimes, nickels, and pennies), with values 25, 10, 5, and 1, respectively. Argue why your algorithm is correct."
   ]
  },
  {
   "cell_type": "code",
   "execution_count": 13,
   "metadata": {},
   "outputs": [],
   "source": [
    "# here is a greedy version\n",
    "# works not for all denominations\n",
    "def coins_greedy(amount, denom):\n",
    "    coins = []\n",
    "    j = len(denom) - 1\n",
    "    while j >= 0:\n",
    "        while amount >= denom[j]:\n",
    "            amount -= denom[j]\n",
    "            coins.append(denom[j]) \n",
    "        j -= 1\n",
    "    return coins\n",
    "\n",
    "# bonus: dynamic programming solution\n",
    "# time complexity: O(A*d), where A - amount, d - number of denominations\n",
    "# probably need to optimize this later \n",
    "def coins_exchange(amount, denom):\n",
    "    A = [0]*(amount+1)\n",
    "    max_exchange = amount + 1\n",
    "    for i in range(1, len(A)):\n",
    "        m = [max_exchange]*len(denom)\n",
    "        for j in range(len(denom)):\n",
    "            if i - denom[j] >= 0:\n",
    "                m[j] = A[i-denom[j]]\n",
    "            A[i] = 1 + min(m)\n",
    "    return A\n"
   ]
  },
  {
   "cell_type": "markdown",
   "metadata": {},
   "source": [
    "### C-13.30"
   ]
  },
  {
   "cell_type": "markdown",
   "metadata": {},
   "source": [
    "Give an example set of denominations of coins so that a greedy changemaking algorithm will not use the minimum number of coins."
   ]
  },
  {
   "cell_type": "code",
   "execution_count": 14,
   "metadata": {},
   "outputs": [],
   "source": [
    "# example = [1, 15, 25]\n",
    "# output -> 1x25 and 5x1\n",
    "# most efficient -> 2x15\n"
   ]
  },
  {
   "cell_type": "markdown",
   "metadata": {},
   "source": [
    "### C-13.35"
   ]
  },
  {
   "cell_type": "markdown",
   "metadata": {},
   "source": [
    "Given a sequence ${S = (x_0,x_1, ... , x_{n−1})}$ of numbers, describe an ${O(n^2)}$ - time algorithm for finding a longest subsequence ${T = (x_{i_0} ,x_{i_1}, ... , x_{i_{k−1}})}$ of numbers, such that ${i_j < i_{j+1}}$ and ${x_{i_j} > x_{i_{j+1}}}$. That is, ${T}$ is a longest decreasing subsequence of ${S}$."
   ]
  },
  {
   "cell_type": "code",
   "execution_count": 15,
   "metadata": {},
   "outputs": [],
   "source": [
    "# okay, the 'naive' approach is to store all possible subsequences in one array\n",
    "# and then choose the shortest, results in O(2^n)\n",
    "\n",
    "# dynamic programming solution, where n = len(S)\n",
    "# time-complexity: O(n^2)\n",
    "# space-complexity: O(n)\n",
    "def lds(S):\n",
    "    table = [1]*len(S)\n",
    "    for i in range(1, len(S)):\n",
    "        result = 0\n",
    "        for j in range(i-1, -1, -1):\n",
    "            if S[i] < S[j]:\n",
    "                result = 1 + table[j]\n",
    "                break\n",
    "        table[i] = max(1, result)\n",
    "    return max(table)\n"
   ]
  },
  {
   "cell_type": "markdown",
   "metadata": {},
   "source": [
    "### C-13.37"
   ]
  },
  {
   "cell_type": "markdown",
   "metadata": {},
   "source": [
    "Define the edit distance between two strings ${X}$ and ${Y}$ of length ${n}$ and ${m}$, respectively, to be the number of edits that it takes to change ${X}$ into ${Y}$. An edit consists of a character insertion, a character deletion, or a character replacement. For example, the strings \"algorithm\" and \"rhythm\" have edit distance 6. Design an ${O(n\\times m)}$-time algorithm for computing the edit distance between ${X}$ and ${Y}$."
   ]
  },
  {
   "cell_type": "code",
   "execution_count": 16,
   "metadata": {},
   "outputs": [],
   "source": [
    "# brute force approach\n",
    "# time complexity: O(3^n)\n",
    "def brute_ed(s1, s2, i, j):\n",
    "    if i == 0: # string s1 is empty, load all remaining s2 characters there \n",
    "        return j\n",
    "    if j == 0: # string s2 is empty, load all remaining s1 characters there \n",
    "        return i\n",
    "    if s1[i] == s2[j]:\n",
    "        return brute_ed(s1, s2, i-1, j-1) # if they are identical, just move on \n",
    "    return 1 + min(brute_ed(s1, s2, i, j-1), # insert\n",
    "          brute_ed(s1, s2, i-1, j), # delete\n",
    "          brute_ed(s1, s2, i-1, j-1)) # replace\n",
    "\n",
    "# dynamic programming solution, where n, m - length of both strings\n",
    "# time complexity: O(n*m)\n",
    "# space complexity: O(n*m)\n",
    "def levenshtein_distance(T1, T2):\n",
    "    n, m = len(T1), len(T2)\n",
    "    table = [[0]*(n+1) for i in range(m+1)]\n",
    "    for i in range(m+1):\n",
    "        for j in range(n+1):\n",
    "            if i == 0:\n",
    "                table[i][j] = j\n",
    "            elif j == 0:\n",
    "                table[i][j] = i\n",
    "            elif T1[j-1] == T2[i-1]:\n",
    "                table[i][j] = table[i-1][j-1]\n",
    "            else:\n",
    "                table[i][j] = 1 + min(table[i][j-1], table[i-1][j], table[i-1][j-1])\n",
    "    return table[-1][-1] \n"
   ]
  },
  {
   "cell_type": "markdown",
   "metadata": {},
   "source": [
    "### C-13.27"
   ]
  },
  {
   "cell_type": "markdown",
   "metadata": {},
   "source": [
    "Design an efficient algorithm for the matrix chain multiplication problem that outputs a fully parenthesized expression for how to multiply the matrices in the chain using the minimum number of operations."
   ]
  },
  {
   "cell_type": "code",
   "execution_count": 19,
   "metadata": {},
   "outputs": [],
   "source": [
    "# well, I guess the text book aproach also works, and it has less code\n",
    "# but here is mine\n",
    "# time complexity: O(n^3)\n",
    "# space complexity: O(n^2)\n",
    "\n",
    "# very smart trick with loops in the middle: first compute |i - j| = 1, then |i - j| = 2, |i - j| = 3 etc.\n",
    "# basically L is the number of matrixes multiplied\n",
    "# input example: ex = [3, 2, 4, 2, 5] means A1(2x3) * A2(3x4) * A3(4x2), e.g. these are 4 dimensions\n",
    "def matrix_chain(m):\n",
    "    n = len(m)\n",
    "    table = [[0]*n for i in range(n)]\n",
    "    for L in range(2, n):\n",
    "        for i in range(1, n-L+1):      \n",
    "            j = i+L-1\n",
    "            maximum = 123456789\n",
    "            for k in range(i, j):\n",
    "                if maximum > table[i][k] + table[k+1][j] + m[i-1]*m[k]*m[j]:\n",
    "                    maximum = table[i][k] + table[k+1][j] + m[i-1]*m[k]*m[j]\n",
    "            table[i][j] = maximum\n",
    "    return table\n",
    "\n",
    "# doesn't print out parenthesized expression\n"
   ]
  }
 ],
 "metadata": {
  "kernelspec": {
   "display_name": "Python 3",
   "language": "python",
   "name": "python3"
  },
  "language_info": {
   "codemirror_mode": {
    "name": "ipython",
    "version": 3
   },
   "file_extension": ".py",
   "mimetype": "text/x-python",
   "name": "python",
   "nbconvert_exporter": "python",
   "pygments_lexer": "ipython3",
   "version": "3.7.2"
  }
 },
 "nbformat": 4,
 "nbformat_minor": 4
}
