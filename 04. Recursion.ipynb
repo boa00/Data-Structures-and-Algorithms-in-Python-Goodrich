{
 "cells": [
  {
   "cell_type": "markdown",
   "metadata": {},
   "source": [
    "# Chapter 4. Recursion"
   ]
  },
  {
   "cell_type": "markdown",
   "metadata": {},
   "source": [
    "The chapter introduces to the principles of basic recursion algorithms (binary search, Fibonacci numbers, Tower of Hanoi, etc.)"
   ]
  },
  {
   "cell_type": "markdown",
   "metadata": {},
   "source": [
    "## Imporant Algorithms and Data Structures"
   ]
  },
  {
   "cell_type": "code",
   "execution_count": 112,
   "metadata": {},
   "outputs": [],
   "source": [
    "# Binary Search\n",
    "# input: binary_search(A, k, 0, len(A)-1) if we want to search from start to finish\n",
    "def binary_search(A, k, low, high):\n",
    "    if low > high:\n",
    "        return False\n",
    "    mid = (low + high) // 2\n",
    "    if A[mid] == k:\n",
    "        return True\n",
    "    elif k > A[mid]:\n",
    "        low = mid + 1\n",
    "    else:\n",
    "        high = mid - 1\n",
    "    return binary_search(A, k, low, high)\n"
   ]
  },
  {
   "cell_type": "markdown",
   "metadata": {},
   "source": [
    "## Reinforcement "
   ]
  },
  {
   "cell_type": "markdown",
   "metadata": {},
   "source": [
    "### R-4.1"
   ]
  },
  {
   "cell_type": "markdown",
   "metadata": {},
   "source": [
    "Describe a recursive algorithm for finding the maximum element in a sequence, ${S}$, of ${n}$ elements. What is your running time and space usage?"
   ]
  },
  {
   "cell_type": "code",
   "execution_count": 18,
   "metadata": {},
   "outputs": [],
   "source": [
    "# O(n) time and space complexity solution\n",
    "def max_recursive(A, i=0):\n",
    "    if i == len(A)-1:\n",
    "        return A[i]\n",
    "    return max(A[i], max_recursive(A, i+1)) \n",
    "\n",
    "# recursive algorithm through the deletion of elements \n",
    "# amortized O(n) time comlexity\n",
    "def max_recursive_deletion(A):\n",
    "    n = len(A)\n",
    "    if n == 1:\n",
    "        return A[0]\n",
    "    if A[n-1] >= A[n-2]:\n",
    "        del A[n-2]\n",
    "    else:\n",
    "        del A[n-1]\n",
    "    return max_recursive_deletion(A)\n"
   ]
  },
  {
   "cell_type": "markdown",
   "metadata": {},
   "source": [
    "### R-4.6"
   ]
  },
  {
   "cell_type": "markdown",
   "metadata": {},
   "source": [
    "Describe a recursive function for computing the ${n^{th}}$ Harmonic number, ${H_n=\\sum_{i=1}^n 1/{i}}$."
   ]
  },
  {
   "cell_type": "code",
   "execution_count": 8,
   "metadata": {},
   "outputs": [],
   "source": [
    "# O(n) time and space complexity\n",
    "def harmonic_number(n):\n",
    "    if n == 1:\n",
    "        return 1\n",
    "    return (1/n) + harmonic_number(n-1)\n"
   ]
  },
  {
   "cell_type": "markdown",
   "metadata": {},
   "source": [
    "### R-4.7"
   ]
  },
  {
   "cell_type": "markdown",
   "metadata": {},
   "source": [
    "Describe a recursive function for converting a string of digits into the integer it represents. For example, 13531 represents the integer 13,531."
   ]
  },
  {
   "cell_type": "code",
   "execution_count": 16,
   "metadata": {},
   "outputs": [],
   "source": [
    "# 13531 = 1*(10)^4 + 3*(10)^3 + 5*(10)^2 + 3*(10)^1 + 1*(10)^0\n",
    "def int_conversion(S, i=0):\n",
    "    n = len(S)\n",
    "    if i == n-1:\n",
    "        return int(S[i])\n",
    "    return int(S[i])*10**(n-1-i) + int_conversion(S, i+1)\n"
   ]
  },
  {
   "cell_type": "markdown",
   "metadata": {},
   "source": [
    "## Creativity"
   ]
  },
  {
   "cell_type": "markdown",
   "metadata": {},
   "source": [
    "### C-4.9"
   ]
  },
  {
   "cell_type": "markdown",
   "metadata": {},
   "source": [
    "Write a short recursive Python function that finds the minimum and maximum values in a sequence without using any loops."
   ]
  },
  {
   "cell_type": "code",
   "execution_count": 25,
   "metadata": {},
   "outputs": [],
   "source": [
    "def max_min_recursive(A, i=0):\n",
    "    if i == len(A)-1:\n",
    "        return A[i], A[i]\n",
    "    max_v, min_v = max_min_recursive(A, i+1)\n",
    "    return max(max_v, A[i]), min(min_v, A[i])\n"
   ]
  },
  {
   "cell_type": "markdown",
   "metadata": {},
   "source": [
    "### C-4.10"
   ]
  },
  {
   "cell_type": "markdown",
   "metadata": {},
   "source": [
    "Describe a recursive algorithm to compute the integer part of the base-two logarithm of ${n}$ using only addition and integer division.\n"
   ]
  },
  {
   "cell_type": "code",
   "execution_count": 26,
   "metadata": {},
   "outputs": [],
   "source": [
    "def log(n):\n",
    "    if n == 1:\n",
    "        return 0\n",
    "    return 1 + log(n // 2)\n"
   ]
  },
  {
   "cell_type": "markdown",
   "metadata": {},
   "source": [
    "### C-4.11"
   ]
  },
  {
   "cell_type": "markdown",
   "metadata": {},
   "source": [
    "Describe an efficient recursive function for solving the element uniqueness problem, which runs in time that is at most ${O(n^2)}$ in the worst case without using sorting."
   ]
  },
  {
   "cell_type": "code",
   "execution_count": 32,
   "metadata": {},
   "outputs": [],
   "source": [
    "def is_unique(A, i=0):\n",
    "    if i == len(A)-1:\n",
    "        return True\n",
    "    for j in range(i+1, len(A)):\n",
    "        if A[i] == A[j]:\n",
    "            return False\n",
    "    return is_unique(A, i+1)\n",
    "\n",
    "# using slicing \n",
    "def is_unique_slicing(A):\n",
    "    if len(A) == 1:\n",
    "        return True\n",
    "    if A[0] in A[1:]:\n",
    "        return False\n",
    "    else:\n",
    "        return is_unique_slicing(A[1:])\n",
    "    "
   ]
  },
  {
   "cell_type": "markdown",
   "metadata": {},
   "source": [
    "### C-4.12"
   ]
  },
  {
   "cell_type": "markdown",
   "metadata": {},
   "source": [
    "Give a recursive algorithm to compute the product of two positive integers, ${m}$ and ${n}$, using only addition and subtraction."
   ]
  },
  {
   "cell_type": "code",
   "execution_count": 36,
   "metadata": {},
   "outputs": [],
   "source": [
    "def product(m, n):\n",
    "    if n == 0:\n",
    "        return 0\n",
    "    return m + product(m, n-1)\n"
   ]
  },
  {
   "cell_type": "markdown",
   "metadata": {},
   "source": [
    "### C-4.14"
   ]
  },
  {
   "cell_type": "markdown",
   "metadata": {},
   "source": [
    "In the Towers of Hanoi puzzle, we are given a platform with three pegs, ${a}$, ${b}$, and ${c}$, sticking out of it. On peg a is a stack of ${n}$ disks, each larger than the next, so that the smallest is on the top and the largest is on the bottom. The puzzle is to move all the disks from peg ${a}$ to peg ${c}$, moving one disk at a time, so that we never place a larger disk on top of a smaller one. Describe a recursive algorithm for solving the Towers of Hanoi puzzle for arbitrary ${n}$. (Hint: Consider first the subproblem of moving all but the ${n^{th}}$ disk from peg a to another peg using the third as “temporary storage.”)"
   ]
  },
  {
   "cell_type": "code",
   "execution_count": 40,
   "metadata": {},
   "outputs": [],
   "source": [
    "# it simply prints out the instructions\n",
    "# I guess that is what the meant by \"solving\" the Towers of Hanoi puzzle \n",
    "def hanoi_puzzle(n, orig='a', tempr='b', end='c'):\n",
    "    if n == 1:\n",
    "        print('Move the disk from {} to {}'.format(orig, end))\n",
    "        return\n",
    "    else:\n",
    "        hanoi_puzzle(n-1, orig, end, tempr)\n",
    "        print('Move the distk from {} to {}'.format(orig, end))\n",
    "        hanoi_puzzle(n-1, tempr, orig, end)\n",
    "    "
   ]
  },
  {
   "cell_type": "markdown",
   "metadata": {},
   "source": [
    "### C-4.16"
   ]
  },
  {
   "cell_type": "markdown",
   "metadata": {},
   "source": [
    "Write a short recursive Python function that takes a character string ${s}$ and outputs its reverse. For example, the reverse of pots&pans would be snap&stop."
   ]
  },
  {
   "cell_type": "code",
   "execution_count": 29,
   "metadata": {},
   "outputs": [],
   "source": [
    "def reverse_string(S, i=0):\n",
    "    if i == len(S)-1:\n",
    "        return [S[i]]\n",
    "    l = reverse_string(S, i+1)\n",
    "    l.append(S[i])\n",
    "    l = \"\".join(l) if i == 0 else l\n",
    "    return l\n",
    "    \n",
    "# using slicing \n",
    "def reverse_string_slicing(S):\n",
    "    s = list(S)\n",
    "    if len(S) == 0:\n",
    "        return S\n",
    "    S[0], S[-1] = S[-1], S[0]\n",
    "    S[1:-1] = reverse_string_slicing(S[1:-1])\n",
    "    return \"\".join(S)\n"
   ]
  },
  {
   "cell_type": "markdown",
   "metadata": {},
   "source": [
    "### C-4.17"
   ]
  },
  {
   "cell_type": "markdown",
   "metadata": {},
   "source": [
    "Write a short recursive Python function that determines if a string ${s}$ is a palindrome, that is, it is equal to its reverse. For example, racecar and gohangasalamiimalasagnahog are palindromes."
   ]
  },
  {
   "cell_type": "code",
   "execution_count": 28,
   "metadata": {},
   "outputs": [],
   "source": [
    "def is_palindrome(S, i=0):\n",
    "    if i == len(S)//2:\n",
    "        return True\n",
    "    if S[i] != S[-i-1]:\n",
    "        return False\n",
    "    return is_palindrome(S, i+1)\n",
    "\n",
    "# using slicing \n",
    "def is_palindrome_slicing(s):\n",
    "    if len(s) < 2:\n",
    "        return True\n",
    "    if s[0] != s[-1]:\n",
    "        return False\n",
    "    return is_palindrome_slicing(s[1:-1])\n"
   ]
  },
  {
   "cell_type": "markdown",
   "metadata": {},
   "source": [
    "### C-4.18"
   ]
  },
  {
   "cell_type": "markdown",
   "metadata": {},
   "source": [
    "Use recursion to write a Python function for determining if a string s has more vowels than consonants."
   ]
  },
  {
   "cell_type": "code",
   "execution_count": 40,
   "metadata": {},
   "outputs": [],
   "source": [
    "def vowels_vs_consonants(S, v=0, c=0, i=0):\n",
    "    if S[i] in 'aeiouy':\n",
    "        v += 1\n",
    "    else:\n",
    "        c += 1 \n",
    "    if i == len(S)-1:\n",
    "        return v>c\n",
    "    return vowels_vs_consonants(S, v, c, i+1)\n"
   ]
  },
  {
   "cell_type": "markdown",
   "metadata": {},
   "source": [
    "### C-4.19"
   ]
  },
  {
   "cell_type": "markdown",
   "metadata": {},
   "source": [
    "Write a short recursive Python function that rearranges a sequence of integer values so that all the even values appear before all the odd values."
   ]
  },
  {
   "cell_type": "code",
   "execution_count": 45,
   "metadata": {},
   "outputs": [],
   "source": [
    "def even_before_odd(A, odd_A=[], even_A=[], i=0):\n",
    "    if i == len(A):\n",
    "        return even_A + odd_A\n",
    "    if A[i] % 2 == 0:\n",
    "        even_A.append(A[i])\n",
    "    else:\n",
    "        odd_A.append(A[i])\n",
    "    return even_before_odd(A, odd_A, even_A, i+1)\n"
   ]
  },
  {
   "cell_type": "markdown",
   "metadata": {},
   "source": [
    "### C-4.20"
   ]
  },
  {
   "cell_type": "markdown",
   "metadata": {},
   "source": [
    "Given an unsorted sequence, ${S}$, of integers and an integer ${k}$, describe a recursive algorithm for rearranging the elements in ${S}$ so that all elements less than or equal to ${k}$ come before any elements larger than ${k}$. What is the running time of your algorithm on a sequence of ${n}$ values?"
   ]
  },
  {
   "cell_type": "code",
   "execution_count": 51,
   "metadata": {},
   "outputs": [],
   "source": [
    "# the same principle as in the task above\n",
    "# O(n) time complexity if we assume adding values to the list takes O(1) time\n",
    "def before_k(A, k, before_A=[], after_A=[], i=0):\n",
    "    if i == len(A):\n",
    "        return before_A + [k] + after_A\n",
    "    if A[i] < k:\n",
    "        before_A.append(A[i])\n",
    "    elif A[i] > k:\n",
    "        after_A.append(A[i])\n",
    "    return before_k(A, k, before_A, after_A, i+1)\n"
   ]
  },
  {
   "cell_type": "markdown",
   "metadata": {},
   "source": [
    "### C-4.21"
   ]
  },
  {
   "cell_type": "markdown",
   "metadata": {},
   "source": [
    "Suppose you are given an ${n}$-element sequence, ${S}$, containing distinct integers that are listed in increasing order. Given a number ${k}$, describe a recursive algorithm to find two integers in ${S}$ that sum to ${k}$, if such a pair exists. What is the running time of your algorithm?"
   ]
  },
  {
   "cell_type": "code",
   "execution_count": 103,
   "metadata": {},
   "outputs": [],
   "source": [
    "# brute O(n^2) solution\n",
    "def two_int_sum_brute(A, k, i=0):\n",
    "    if i == len(A):\n",
    "        return None\n",
    "    for j in range(i+1, len(A)):\n",
    "        if A[i] + A[j] == k:\n",
    "            return A[i], A[j]\n",
    "    return two_int_sum_brute(A, k, i+1)\n",
    "\n",
    "# nonrecursive O(n) solution\n",
    "def two_int_sum_nonrecursive(A, k):\n",
    "    i = 0\n",
    "    n = len(A)-1\n",
    "    while i < n:\n",
    "        print(i,n)\n",
    "        if A[i] + A[n] == k:\n",
    "            return (A[i], A[n])\n",
    "        elif A[i] + A[n] < k:\n",
    "            i += 1\n",
    "        else:\n",
    "            n -= 1\n",
    "    return None\n",
    "\n",
    "# recursive O(n) solution\n",
    "# input: two_int_sum(A, k, 0, len(A)-1), if we want to search from start to finish\n",
    "def two_int_sum(A, k, i, n):\n",
    "    print(i, n)\n",
    "    if i == n:\n",
    "        return None \n",
    "    if A[i] + A[n] == k:\n",
    "        return (A[i], A[n])\n",
    "    elif A[i] + A[n] < k:\n",
    "        return two_int_sum(A, k, i+1, n)\n",
    "    else:\n",
    "        return two_int_sum(A, k, i, n-1)\n"
   ]
  }
 ],
 "metadata": {
  "kernelspec": {
   "display_name": "Python 3",
   "language": "python",
   "name": "python3"
  },
  "language_info": {
   "codemirror_mode": {
    "name": "ipython",
    "version": 3
   },
   "file_extension": ".py",
   "mimetype": "text/x-python",
   "name": "python",
   "nbconvert_exporter": "python",
   "pygments_lexer": "ipython3",
   "version": "3.7.2"
  }
 },
 "nbformat": 4,
 "nbformat_minor": 4
}
