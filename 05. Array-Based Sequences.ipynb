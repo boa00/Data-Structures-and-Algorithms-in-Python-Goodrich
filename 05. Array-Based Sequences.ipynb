{
 "cells": [
  {
   "cell_type": "markdown",
   "metadata": {},
   "source": [
    "# Chapter 5. Array-Based Sequences"
   ]
  },
  {
   "cell_type": "markdown",
   "metadata": {},
   "source": [
    "The chapter discusses arrays as well as built-in Python data structures (lists, dictionaries, etc.) and their efficiency. It also introduces the first sorting algorithm in this book, the Insertion Sort. Exercises focus more on general programming tasks."
   ]
  },
  {
   "cell_type": "markdown",
   "metadata": {},
   "source": [
    "## Impoprtant Algorithms and Data Structures"
   ]
  },
  {
   "cell_type": "code",
   "execution_count": 2,
   "metadata": {},
   "outputs": [],
   "source": [
    "# Insertion Sort\n",
    "# O(n^2) time-complexity, O(1) space-complexity\n",
    "def insertion_sort(A):\n",
    "    n = len(A)\n",
    "    for i in range(1, n):\n",
    "        j = i\n",
    "        tempr = A[j]\n",
    "        while j > 0 and A[j-1] > tempr:\n",
    "            A[j] = A[j-1]\n",
    "            j -= 1\n",
    "        A[j] = tempr\n",
    "    return A\n"
   ]
  },
  {
   "cell_type": "markdown",
   "metadata": {},
   "source": [
    "## Reinforcement "
   ]
  },
  {
   "cell_type": "markdown",
   "metadata": {},
   "source": [
    "### R-5.7"
   ]
  },
  {
   "cell_type": "markdown",
   "metadata": {},
   "source": [
    "Let ${A}$ be an array of size ${n ≥ 2}$ containing integers from ${1}$ to ${n−1}$, inclusive, with exactly one repeated. Describe a fast algorithm for finding the integer in ${A}$ that is repeated."
   ]
  },
  {
   "cell_type": "code",
   "execution_count": 10,
   "metadata": {},
   "outputs": [],
   "source": [
    "# O(nlogn) for sorting + O(n) for iterating over = O(nlogn) time-complexity and O(1) space-complexity\n",
    "def repeated_slow(A):\n",
    "    A.sort()\n",
    "    n = len(A)\n",
    "    for i in range(1, n):\n",
    "        if A[i] == A[i-1]:\n",
    "            return A[i]\n",
    "\n",
    "# another way is to keep track of visited elemets\n",
    "# it runs in o(n) time-complexity but makes space-complesity worse, it becomes O(n) instead of O(1)\n",
    "def repeated(A):\n",
    "    ref = {k:0 for k in A}\n",
    "    for e in A:\n",
    "        if ref[e] == 0:\n",
    "            ref[e] += 1\n",
    "        else:\n",
    "            return e\n",
    "        "
   ]
  },
  {
   "cell_type": "markdown",
   "metadata": {},
   "source": [
    "### R-5.11"
   ]
  },
  {
   "cell_type": "markdown",
   "metadata": {},
   "source": [
    "Use standard control structures to compute the sum of all numbers in an ${n×n}$ data set, represented as a list of lists."
   ]
  },
  {
   "cell_type": "code",
   "execution_count": 15,
   "metadata": {},
   "outputs": [],
   "source": [
    "def two_dem_sum(A):\n",
    "    total = 0\n",
    "    n = len(A)\n",
    "    for i in range(n):\n",
    "        for element in A[i]:\n",
    "            total += element\n",
    "    return total\n"
   ]
  },
  {
   "cell_type": "markdown",
   "metadata": {},
   "source": [
    "### R-5.12"
   ]
  },
  {
   "cell_type": "markdown",
   "metadata": {},
   "source": [
    "Describe how the built-in sum function can be combined with Python’s comprehension syntax to compute the sum of all numbers in an ${n×n}$ data set, represented as a list of lists."
   ]
  },
  {
   "cell_type": "code",
   "execution_count": 14,
   "metadata": {},
   "outputs": [],
   "source": [
    "def two_dem_sum_comprehension(A):\n",
    "    return sum([sum(A[i]) for i in range(len(A))])\n"
   ]
  },
  {
   "cell_type": "markdown",
   "metadata": {},
   "source": [
    "## Creativity"
   ]
  },
  {
   "cell_type": "markdown",
   "metadata": {},
   "source": [
    "### C-5.14"
   ]
  },
  {
   "cell_type": "markdown",
   "metadata": {},
   "source": [
    "The shuffle method, supported by the random module, takes a Python list and rearranges it so that every possible ordering is equally likely. Implement your own version of such a function. You may rely on the randrange(n) function of the random module, which returns a random number between ${0}$ and ${n−1}$ inclusive."
   ]
  },
  {
   "cell_type": "code",
   "execution_count": 17,
   "metadata": {},
   "outputs": [],
   "source": [
    "# The algorithm itself is not different from C-1.20 from Chapter 1, so look it up there\n",
    "# in the first chapter it was asked to use randint(), and here they require randrange()\n",
    "# but the difference between them is that in randrane() you can specify a step\n",
    "# so it doesn't change the algorithm itself\n"
   ]
  },
  {
   "cell_type": "markdown",
   "metadata": {},
   "source": [
    "### C-5.25"
   ]
  },
  {
   "cell_type": "markdown",
   "metadata": {},
   "source": [
    "The syntax data.remove(value) for Python list data removes only the first occurrence of element value from the list. Give an implementation of a function, with signature remove all(data, value), that removes all occurrences of value from the given list, such that the worst-case running time of the function is ${O(n)}$ on a list with n elements. Not that it is not efficient enough in general to rely on repeated calls to remove."
   ]
  },
  {
   "cell_type": "code",
   "execution_count": 20,
   "metadata": {},
   "outputs": [],
   "source": [
    "# I don't know what they meant by not relying on \"repeated calls to remove\"\n",
    "# perhaps they wanted list coprehension, as it is faster then other methods \n",
    "def remove_all(data, value):\n",
    "    return [element for element in data if element != value]\n"
   ]
  },
  {
   "cell_type": "markdown",
   "metadata": {},
   "source": [
    "### C-5.26"
   ]
  },
  {
   "cell_type": "markdown",
   "metadata": {},
   "source": [
    "Let ${B}$ be an array of size ${n≥6}$ containing integers from ${1}$ to ${n−5}$, inclusive, with exactly five repeated. Describe a good algorithm for finding the five integers in ${B}$ that are repeated."
   ]
  },
  {
   "cell_type": "code",
   "execution_count": 23,
   "metadata": {},
   "outputs": [],
   "source": [
    "# the same principle as in R-5.7\n",
    "\n",
    "# I rely on the assumptions that each repeated value can appear more than once \n",
    "# that's why I have loop through two time, so we have O(n) + O(n) = O(n) time-complexity\n",
    "# and O(n) space-complexity\n",
    "def five_repeated(A):\n",
    "    ref = {k:0 for k in A}\n",
    "    repeated = []\n",
    "    for e in A:\n",
    "        ref[e] += 1\n",
    "    for e in ref:\n",
    "        if ref[e] > 1:\n",
    "            repeated.append(e)\n",
    "    return repeated\n"
   ]
  },
  {
   "cell_type": "markdown",
   "metadata": {},
   "source": [
    "### C-5.30"
   ]
  },
  {
   "cell_type": "markdown",
   "metadata": {},
   "source": [
    "When Bob wants to send Alice a message ${M}$ on the Internet, he breaks ${M}$ into n data packets, numbers the packets consecutively, and injects them into the network. When the packets arrive at Alice’s computer, they may be out of order, so Alice must assemble the sequence of ${n}$ packets in order before she can be sure she has the entire message. Describe an efficient scheme for Alice to do this, assuming that she knows the value of ${n}$. What is the running time of this algorithm?"
   ]
  },
  {
   "cell_type": "code",
   "execution_count": 25,
   "metadata": {},
   "outputs": [],
   "source": [
    "# basically a sorting problem \n",
    "# so far in this book we only 'know' about insertion sort for such task, so it runs in O(n^2)\n",
    "# of course, you can do it in O(nlogn) using heap-sort, but let's stay consistent to the book's content\n",
    "def insertion_sort(A):\n",
    "    n = len(A)\n",
    "    for i in range(1, n):\n",
    "        j = i\n",
    "        tempr = A[j]\n",
    "        while j > 0 and A[j-1] > tempr:\n",
    "            A[j] = A[j-1]\n",
    "            j -= 1\n",
    "        A[j] = tempr\n",
    "    return A\n"
   ]
  },
  {
   "cell_type": "markdown",
   "metadata": {},
   "source": [
    "### C-5.31"
   ]
  },
  {
   "cell_type": "markdown",
   "metadata": {},
   "source": [
    "Describe a way to use recursion to add all the numbers in an ${n×n}$ data set, represented as a list of lists."
   ]
  },
  {
   "cell_type": "code",
   "execution_count": 33,
   "metadata": {},
   "outputs": [],
   "source": [
    "def two_dem_recursive(A, i=0):\n",
    "    total = 0\n",
    "    if i == len(A):\n",
    "        return total\n",
    "    for element in A[i]:\n",
    "        total += element\n",
    "    total += two_dem_recursive(A, i+1)\n",
    "    return total \n"
   ]
  }
 ],
 "metadata": {
  "kernelspec": {
   "display_name": "Python 3",
   "language": "python",
   "name": "python3"
  },
  "language_info": {
   "codemirror_mode": {
    "name": "ipython",
    "version": 3
   },
   "file_extension": ".py",
   "mimetype": "text/x-python",
   "name": "python",
   "nbconvert_exporter": "python",
   "pygments_lexer": "ipython3",
   "version": "3.7.2"
  }
 },
 "nbformat": 4,
 "nbformat_minor": 4
}
