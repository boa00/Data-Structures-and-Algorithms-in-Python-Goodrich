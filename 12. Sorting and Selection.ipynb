{
 "cells": [
  {
   "cell_type": "markdown",
   "metadata": {},
   "source": [
    "# Chapter 12. Sorting and Selection"
   ]
  },
  {
   "cell_type": "markdown",
   "metadata": {},
   "source": [
    "The chapter covers sorting and selection algorithms which were not yet covered: Merge-Sort, Quick-Sort and the lower bound for sorting. "
   ]
  },
  {
   "cell_type": "markdown",
   "metadata": {},
   "source": [
    "## Important Algorithms and Data Structures"
   ]
  },
  {
   "cell_type": "code",
   "execution_count": null,
   "metadata": {
    "scrolled": true
   },
   "outputs": [],
   "source": [
    "# my implementation of the Merge Sort\n",
    "# there is more code than in the book version, but for me this code is more straightforward and clear\n",
    "def merge(A1, A2, A):\n",
    "    i = j = k = 0\n",
    "    while i < len(A1) and j < len(A2):\n",
    "        if A1[i] < A2[j]:\n",
    "            A[k] = A1[i]\n",
    "            i += 1\n",
    "        else:\n",
    "            A[k] = A2[j]\n",
    "            j += 1\n",
    "        k += 1 \n",
    "    while i < len(A1):\n",
    "        A[k] = A1[i]\n",
    "        i += 1\n",
    "        k += 1\n",
    "    while j < len(A2):\n",
    "        A[k] = A2[j]\n",
    "        j += 1\n",
    "        k += 1\n",
    "\n",
    "\n",
    "def merge_sort(A):\n",
    "    if len(A) < 2:\n",
    "        return\n",
    "    mid = len(A) // 2\n",
    "    A1 = A[0:mid]\n",
    "    A2 = A[mid:len(A)]\n",
    "    merge_sort(A1)\n",
    "    merge_sort(A2)\n",
    "    merge(A1, A2, A)\n",
    "    return A\n",
    "\n",
    "# my implementation of an in-lace version of the Quick Sort (the book used LinkedQueue for this)\n",
    "# input: quick_sort(A, 0, len(A)-1)\n",
    "def pivot_sort(A, start, end):\n",
    "    pivot = A[end]\n",
    "    leading_index = 0\n",
    "    i = 0\n",
    "    while i < end:\n",
    "        if A[i] <= pivot:\n",
    "            A[i], A[leading_index] = A[leading_index], A[i]\n",
    "            leading_index += 1\n",
    "        i += 1\n",
    "    A[end], A[leading_index] = A[leading_index], A[end]\n",
    "    return leading_index\n",
    "\n",
    "def quick_sort(A, start, end):\n",
    "    if end > start:\n",
    "        leading_index = pivot_sort(A, start, end)\n",
    "        quick_sort(A, start, leading_index - 1)\n",
    "        quick_sort(A, leading_index + 1, end)\n",
    "        return A\n",
    "    "
   ]
  },
  {
   "cell_type": "markdown",
   "metadata": {},
   "source": [
    "## Reinforcement"
   ]
  },
  {
   "cell_type": "markdown",
   "metadata": {},
   "source": [
    "### R-12.7"
   ]
  },
  {
   "cell_type": "markdown",
   "metadata": {},
   "source": [
    "Suppose we are given two ${n}$-element sorted sequences ${A}$ and ${B}$ each with distinct elements, but potentially some elements that are in both sequences. Describe an ${O(n)}$-time method for computing a sequence representing the union ${A∪B}$ (with no duplicates) as a sorted sequence."
   ]
  },
  {
   "cell_type": "code",
   "execution_count": null,
   "metadata": {},
   "outputs": [],
   "source": [
    "# the logic is to merge two lists and then remove dublicates\n",
    "# for merging I use the merge() function from the merge sort\n",
    "# for removing dublicates I use one of the functions from C-12.26\n",
    "# O(n) for merge() + O(n) for remove_dublicates_union() = O(n) time-complexity\n",
    "def merge(A1, A2, A):\n",
    "    i = j = k = 0\n",
    "    while i < len(A1) and j < len(A2):\n",
    "        if A1[i] < A2[j]:\n",
    "            A[k] = A1[i]\n",
    "            i += 1\n",
    "        else:\n",
    "            A[k] = A2[j]\n",
    "            j += 1\n",
    "        k += 1 \n",
    "    while i < len(A1):\n",
    "        A[k] = A1[i]\n",
    "        i += 1\n",
    "        k += 1\n",
    "    while j < len(A2):\n",
    "        A[k] = A2[j]\n",
    "        j += 1\n",
    "        k += 1\n",
    "        \n",
    "def remove_dublicates_union(A):\n",
    "    n = len(A)\n",
    "    j = 0\n",
    "    for i in range(n-1):\n",
    "        if A[i] != A[i+1]:\n",
    "            A[j] = A[i]\n",
    "            j += 1\n",
    "    A[j] = A[n-1]\n",
    "    return A[:j+1]\n",
    "\n",
    "def union(A, B):\n",
    "    n = len(A) # both of the same length\n",
    "    res = [0]*2*n\n",
    "    merge(A, B, res)\n",
    "    return remove_dublicates_union(res)\n",
    "    "
   ]
  },
  {
   "cell_type": "markdown",
   "metadata": {},
   "source": [
    "## Creativity"
   ]
  },
  {
   "cell_type": "markdown",
   "metadata": {},
   "source": [
    "### C-12.26"
   ]
  },
  {
   "cell_type": "markdown",
   "metadata": {},
   "source": [
    "Describe and analyze an efficient method for removing all duplicates from a collection ${A}$ of ${n}$ elements."
   ]
  },
  {
   "cell_type": "code",
   "execution_count": null,
   "metadata": {},
   "outputs": [],
   "source": [
    "# O(nlogn) for sorting + O(n) amortized  for traversal and appending = O(nlogn) time-complexity (amortized)\n",
    "# O(n) space-complexity for the additional list res\n",
    "def remove_dublicates(A):\n",
    "    A.sort()\n",
    "    res = []\n",
    "    n = len(A)\n",
    "    for i in range(n-1):\n",
    "        if A[i] != A[i+1]:\n",
    "            res.append(A[i])\n",
    "    res.append(A[n-1])\n",
    "    return res\n",
    "\n",
    "# you can also do it in-place\n",
    "# O(nlogn) for sorting + O(n) for traversal = O(nlogn) time complexity (without amortization)\n",
    "# O(1) space-complexity\n",
    "def remove_dublicates_inplace(A):\n",
    "    A.sort()\n",
    "    n = len(A)\n",
    "    j = 0\n",
    "    for i in range(n-1):\n",
    "        if A[i] != A[i+1]:\n",
    "            A[j] = A[i]\n",
    "            j += 1\n",
    "    A[j] = A[n-1]\n",
    "    return A[:j+1]\n",
    "\n",
    "# how it is done without playing the algorithm game\n",
    "def remove_dublicates_obvious(A):\n",
    "    return list(set(A))\n"
   ]
  },
  {
   "cell_type": "markdown",
   "metadata": {},
   "source": [
    "### C-12.30"
   ]
  },
  {
   "cell_type": "markdown",
   "metadata": {},
   "source": [
    "Modify our in-place quick-sort implementation of Code Fragment 12.6 to be a randomized version of the algorithm, as discussed in Section 12.3.1."
   ]
  },
  {
   "cell_type": "code",
   "execution_count": 101,
   "metadata": {},
   "outputs": [],
   "source": [
    "from random import randint\n",
    "\n",
    "# requires a little change in the main quick sort function\n",
    "# we choose a random pivot and then move it to the end \n",
    "# the rest is the same\n",
    "def pivot_sort(A, start, end):\n",
    "    pivot = A[end]\n",
    "    leading_index = 0\n",
    "    i = 0\n",
    "    while i < end:\n",
    "        if A[i] <= pivot:\n",
    "            A[i], A[leading_index] = A[leading_index], A[i]\n",
    "            leading_index += 1\n",
    "        i += 1\n",
    "    A[end], A[leading_index] = A[leading_index], A[end]\n",
    "    return leading_index\n",
    "\n",
    "def quick_sort(A, start, end):\n",
    "    if end > start:\n",
    "        pivot_index = randint(start, end)\n",
    "        A[pivot_index], A[end] = A[end], A[pivot_index]\n",
    "        leading_index = pivot_sort(A, start, end)\n",
    "        quick_sort(A, start, leading_index - 1)\n",
    "        quick_sort(A, leading_index + 1, end)\n",
    "        return A\n"
   ]
  },
  {
   "cell_type": "markdown",
   "metadata": {},
   "source": [
    "### C-12.41"
   ]
  },
  {
   "cell_type": "markdown",
   "metadata": {},
   "source": [
    "Given a sequence ${S}$ of ${n}$ elements, on which a total order relation is defined, describe an efficient method for determining whether there are two equal elements in ${S}$. What is the running time of your method?"
   ]
  },
  {
   "cell_type": "code",
   "execution_count": null,
   "metadata": {},
   "outputs": [],
   "source": [
    "# if I understand the problem correctly, just determine if there are dublicates in an int A[]\n",
    "# O(nlogn) for sorting + O(n) for traversal = O(nlogn) time-complexity \n",
    "def int_dublicates(A):\n",
    "    n = len(A)\n",
    "    if n < 2:\n",
    "        return True\n",
    "    A.sort()\n",
    "    for i in range(n-1):\n",
    "        if A[i] == A[i+1]:\n",
    "            return False\n",
    "    return True\n"
   ]
  }
 ],
 "metadata": {
  "kernelspec": {
   "display_name": "Python 3",
   "language": "python",
   "name": "python3"
  },
  "language_info": {
   "codemirror_mode": {
    "name": "ipython",
    "version": 3
   },
   "file_extension": ".py",
   "mimetype": "text/x-python",
   "name": "python",
   "nbconvert_exporter": "python",
   "pygments_lexer": "ipython3",
   "version": "3.7.2"
  }
 },
 "nbformat": 4,
 "nbformat_minor": 4
}
