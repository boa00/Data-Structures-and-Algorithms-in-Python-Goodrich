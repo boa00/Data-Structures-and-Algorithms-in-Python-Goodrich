{
 "cells": [
  {
   "cell_type": "markdown",
   "metadata": {},
   "source": [
    "# Chapter 10. Maps, Hash Tables, and Skip Lists"
   ]
  },
  {
   "cell_type": "markdown",
   "metadata": {},
   "source": [
    "This chapter introduces several data structures: Maps, Hash Tables, Sorted Maps, Skip Lists, Multi Sets. I just focused on the most important and most popular of them: the Hash Table. "
   ]
  },
  {
   "cell_type": "markdown",
   "metadata": {},
   "source": [
    "## Important Data Structures and Algorithms"
   ]
  },
  {
   "cell_type": "code",
   "execution_count": 38,
   "metadata": {},
   "outputs": [],
   "source": [
    "from random import randrange\n",
    "\n",
    "class KeyError(Exception):\n",
    "    pass\n",
    "\n",
    "# my own implementation of a Hash Table with a list as a bucket\n",
    "class HashTable:\n",
    "\n",
    "    def __init__(self, cap = 11, p = 109345121):\n",
    "        self._key = 0\n",
    "        self._value = 1\n",
    "        self._table = [None] * cap\n",
    "        self._n = 0\n",
    "        self._prime = p\n",
    "        self._scale = 1 + randrange(1, p)\n",
    "        self._shift = randrange(p)\n",
    "\n",
    "    def __len__(self):\n",
    "        return self._n\n",
    "    \n",
    "    def _hashing(self, k):\n",
    "        return (self._scale * hash(k) + self._shift) % self._prime % len(self._table)\n",
    "\n",
    "    def __getitem__(self, k):\n",
    "        i = self._hashing(k)\n",
    "        if self._table[i] is None:\n",
    "            raise KeyError('There is no such key')\n",
    "        if len(self._table[i]) == 0:\n",
    "            return self._table[i][0][self._value]\n",
    "        else:    \n",
    "            n = len(self._table[i])\n",
    "            for j in range(n):\n",
    "                if self._table[i][j][self._key] == k:\n",
    "                    return self._table[i][j][self._value]\n",
    "        raise KeyError('There is no such key')\n",
    "\n",
    "    def __setitem__(self, k, v):\n",
    "        i = self._hashing(k)\n",
    "        if self._table[i] is None:\n",
    "            self._table[i] = [(k,v)]\n",
    "        else:\n",
    "            self._table[i].append((k,v))\n",
    "        self._n += 1\n",
    "        if self._n > len(self._table) // 2:\n",
    "            self._resize(2*len(self._table) - 1)\n",
    "\n",
    "    def __delitem__(self, k):\n",
    "        i = self._hashing(k)\n",
    "        if self._table[i] is not None:\n",
    "            #print(self._table[i][0][self._key])\n",
    "            if len(self._table[i]) == 1:\n",
    "                if self._table[i][0][self._key] == k:\n",
    "                    self._table[i] = None\n",
    "                    self._n -= 1\n",
    "                    return\n",
    "        elif len(self._table[i]) > 1:\n",
    "            n = len(self._table[i])\n",
    "            for j in range(n):\n",
    "                if self._table[i][j][self._key] == k:\n",
    "                    del self._table[i][j]\n",
    "                    self._n -= 1\n",
    "                    return\n",
    "        raise KeyError('There is no such key')\n",
    "\n",
    "    def _resize(self, c):\n",
    "        n = len(self._table)\n",
    "        new = [None] * c\n",
    "        for i in range(n):\n",
    "            new[i] = self._table[i]\n",
    "        self._table = new\n",
    "    \n"
   ]
  },
  {
   "cell_type": "markdown",
   "metadata": {},
   "source": [
    "## Creativity"
   ]
  },
  {
   "cell_type": "markdown",
   "metadata": {},
   "source": [
    "### C-10.42"
   ]
  },
  {
   "cell_type": "markdown",
   "metadata": {},
   "source": [
    "Suppose that each row of an ${n\\times n}$ array ${A}$ consists of 1’s and 0’s such that, in any row of ${A}$, all the 1’s come before any 0’s in that row. Assuming ${A}$ is already in memory, describe a method running in ${O(n\\cdot logn)}$ time (not ${O(n^2)}$ time!) for counting the number of 1’s in ${A}$."
   ]
  },
  {
   "cell_type": "code",
   "execution_count": 4,
   "metadata": {},
   "outputs": [],
   "source": [
    "# the logic is to perform a binary-search-like algorithm on each row \n",
    "# it works because values in rows are already sorted in the decreasing order (from 1 to 0)\n",
    "# O(logn) binary search repeated n times, so we have O(nlogn) time-complexity\n",
    "def one_counter(A):\n",
    "    total = 0\n",
    "    for i in range(len(A)):\n",
    "        total += count_ones(A[i])\n",
    "    return total\n",
    "\n",
    "def count_ones(A):\n",
    "# special cases\n",
    "    if len(A) == 1:\n",
    "        return A[i]\n",
    "    if A[-1] == 1:\n",
    "        return len(A)\n",
    "# basically a binary search until the leading 1 is found \n",
    "    l = 0\n",
    "    r = len(A) - 1\n",
    "    while l <= r:\n",
    "        i = (r + l) // 2\n",
    "        if A[i] == 1:\n",
    "            if A[i+1] == 0:\n",
    "                return i + 1\n",
    "            else:\n",
    "                l = i + 1        \n",
    "        else:\n",
    "            if A[i-1] == 1:\n",
    "                return i\n",
    "            else:\n",
    "                r = i - 1        \n",
    "    return 0\n"
   ]
  }
 ],
 "metadata": {
  "kernelspec": {
   "display_name": "Python 3",
   "language": "python",
   "name": "python3"
  },
  "language_info": {
   "codemirror_mode": {
    "name": "ipython",
    "version": 3
   },
   "file_extension": ".py",
   "mimetype": "text/x-python",
   "name": "python",
   "nbconvert_exporter": "python",
   "pygments_lexer": "ipython3",
   "version": "3.7.2"
  }
 },
 "nbformat": 4,
 "nbformat_minor": 4
}
