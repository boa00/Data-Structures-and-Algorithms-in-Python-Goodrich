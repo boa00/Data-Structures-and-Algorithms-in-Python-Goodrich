{
 "cells": [
  {
   "cell_type": "markdown",
   "metadata": {},
   "source": [
    "# Chapter 1. Python Primer"
   ]
  },
  {
   "cell_type": "markdown",
   "metadata": {},
   "source": [
    "This chapter focuses on Python basics. All exercies are simple and do not require any CS background."
   ]
  },
  {
   "cell_type": "markdown",
   "metadata": {},
   "source": [
    "## Reinforcement"
   ]
  },
  {
   "cell_type": "markdown",
   "metadata": {},
   "source": [
    "### R-1.1"
   ]
  },
  {
   "cell_type": "markdown",
   "metadata": {},
   "source": [
    "Write a short Python function, is multiple(n, m), that takes two integer values and returns True if ${n}$ is a multiple of ${m}$, that is, ${n = m \\cdot i}$ for some integer ${i}$, and False otherwise"
   ]
  },
  {
   "cell_type": "code",
   "execution_count": 197,
   "metadata": {},
   "outputs": [],
   "source": [
    "def is_multiple(n, m):\n",
    "    return n % m == 0\n"
   ]
  },
  {
   "cell_type": "markdown",
   "metadata": {},
   "source": [
    "### R-1.2"
   ]
  },
  {
   "cell_type": "markdown",
   "metadata": {},
   "source": [
    "Write a short Python function, is even(k), that takes an integer value and returns True if k is even, and False otherwise. However, your function cannot use the multiplication, modulo, or division operators."
   ]
  },
  {
   "cell_type": "code",
   "execution_count": 198,
   "metadata": {},
   "outputs": [],
   "source": [
    "def is_even(k):\n",
    "    return (-1)**k > 0\n",
    "\n",
    "# you can also do it bitwise, any even number has 0 at the end of its binary representation\n",
    "def is_even_bitwise(k):\n",
    "    return k & 1 == 0\n"
   ]
  },
  {
   "cell_type": "markdown",
   "metadata": {},
   "source": [
    "### R-1.3"
   ]
  },
  {
   "cell_type": "markdown",
   "metadata": {},
   "source": [
    "Write a short Python function, minmax(data), that takes a sequence of one or more numbers, and returns the smallest and largest numbers, in the form of a tuple of length two. Do not use the built-in functions min or max in implementing your solution."
   ]
  },
  {
   "cell_type": "code",
   "execution_count": 199,
   "metadata": {},
   "outputs": [],
   "source": [
    "def minmax(data):\n",
    "    min_value = data[0]\n",
    "    max_value = data[0]\n",
    "    for element in data:\n",
    "        if element > max_value:\n",
    "            max_value = element\n",
    "        if element < min_value:\n",
    "            min_value = element\n",
    "    return min_value, max_value\n"
   ]
  },
  {
   "cell_type": "markdown",
   "metadata": {},
   "source": [
    "### R-1.4"
   ]
  },
  {
   "cell_type": "markdown",
   "metadata": {},
   "source": [
    "Write a short Python function that takes a positive integer n and returns the sum of the squares of all the positive integers smaller than n."
   ]
  },
  {
   "cell_type": "code",
   "execution_count": 200,
   "metadata": {},
   "outputs": [],
   "source": [
    "def square_sum(n):\n",
    "    squares = 0\n",
    "    i = 0\n",
    "    while i <= n:\n",
    "        squares += i**2\n",
    "        i += 1\n",
    "    return squares\n"
   ]
  },
  {
   "cell_type": "markdown",
   "metadata": {},
   "source": [
    "### R-1.5"
   ]
  },
  {
   "cell_type": "markdown",
   "metadata": {},
   "source": [
    "Give a single command that computes the sum from Exercise R-1.4, relying on Python’s comprehension syntax and the built-in sum function."
   ]
  },
  {
   "cell_type": "code",
   "execution_count": 201,
   "metadata": {},
   "outputs": [],
   "source": [
    "def shorter_square_sum(n):\n",
    "    return sum([k**2 for k in range(0, n+1)])\n"
   ]
  },
  {
   "cell_type": "markdown",
   "metadata": {},
   "source": [
    "### R-1.6"
   ]
  },
  {
   "cell_type": "markdown",
   "metadata": {},
   "source": [
    "Write a short Python function that takes a positive integer n and returns the sum of the squares of all the odd positive integers smaller than n"
   ]
  },
  {
   "cell_type": "code",
   "execution_count": 202,
   "metadata": {},
   "outputs": [],
   "source": [
    "def odd_square_sum(n):\n",
    "    squares = 0\n",
    "    i = 0\n",
    "    while i <= n:\n",
    "        if i % 2 != 0:\n",
    "            squares += i**2\n",
    "        i += 1\n",
    "    return squares\n"
   ]
  },
  {
   "cell_type": "markdown",
   "metadata": {},
   "source": [
    "### R-1.7"
   ]
  },
  {
   "cell_type": "markdown",
   "metadata": {},
   "source": [
    "Give a single command that computes the sum from Exercise R-1.6, relying on Python’s comprehension syntax and the built-in sum function."
   ]
  },
  {
   "cell_type": "code",
   "execution_count": 203,
   "metadata": {},
   "outputs": [],
   "source": [
    "def shorter_odd_square_sum(n):\n",
    "    return sum([k**2 for k in range(0, n+1) if k % 2 != 0])\n"
   ]
  },
  {
   "cell_type": "markdown",
   "metadata": {},
   "source": [
    "### R-1.8"
   ]
  },
  {
   "cell_type": "markdown",
   "metadata": {},
   "source": [
    "Python allows negative integers to be used as indices into a sequence, such as a string. If string s has length n, and expression s[k] is used for index ${-n ≤ k < 0}$, what is the equivalent index ${j ≥ 0}$ such that s[j] references the same element?"
   ]
  },
  {
   "cell_type": "code",
   "execution_count": 204,
   "metadata": {},
   "outputs": [],
   "source": [
    "def true_index(n, k):\n",
    "    return n - abs(k)\n"
   ]
  },
  {
   "cell_type": "markdown",
   "metadata": {},
   "source": [
    "### R-1.9"
   ]
  },
  {
   "cell_type": "markdown",
   "metadata": {},
   "source": [
    "What parameters should be sent to the range constructor, to produce a range with values 50, 60, 70, 80?"
   ]
  },
  {
   "cell_type": "code",
   "execution_count": 205,
   "metadata": {},
   "outputs": [],
   "source": [
    "# the parametres should be \n",
    "# start = 50, end = 90, step = 10\n"
   ]
  },
  {
   "cell_type": "markdown",
   "metadata": {},
   "source": [
    "### R-1.10"
   ]
  },
  {
   "cell_type": "markdown",
   "metadata": {},
   "source": [
    "What parameters should be sent to the range constructor, to produce a range with values 8, 6, 4, 2, 0, −2, −4, −6, −8?"
   ]
  },
  {
   "cell_type": "code",
   "execution_count": 206,
   "metadata": {},
   "outputs": [],
   "source": [
    "# the parametres should be \n",
    "# start = 8, end = -8, step = -2\n"
   ]
  },
  {
   "cell_type": "markdown",
   "metadata": {},
   "source": [
    "### R-1.11"
   ]
  },
  {
   "cell_type": "markdown",
   "metadata": {},
   "source": [
    "Demonstrate how to use Python’s list comprehension syntax to produce the list [1, 2, 4, 8, 16, 32, 64, 128, 256]."
   ]
  },
  {
   "cell_type": "code",
   "execution_count": 207,
   "metadata": {},
   "outputs": [],
   "source": [
    "def comprehension_example(n):\n",
    "    return [2**k for k in range (0, n+1)]\n"
   ]
  },
  {
   "cell_type": "markdown",
   "metadata": {},
   "source": [
    "### R-1.12"
   ]
  },
  {
   "cell_type": "markdown",
   "metadata": {},
   "source": [
    "Python’s random module includes a function choice(data) that returns a random element from a non-empty sequence. The random module includes a more basic function randrange, with parameterization similar to the built-in range function, that return a random choice from the given range. Using only the randrange function, implement your own version of the choice function."
   ]
  },
  {
   "cell_type": "code",
   "execution_count": 208,
   "metadata": {},
   "outputs": [],
   "source": [
    "from random import randrange\n",
    "\n",
    "def choice(A):\n",
    "    return A[randrange(len(A))]\n"
   ]
  },
  {
   "cell_type": "markdown",
   "metadata": {},
   "source": [
    "## Creativity"
   ]
  },
  {
   "cell_type": "markdown",
   "metadata": {},
   "source": [
    "### C-1.13"
   ]
  },
  {
   "cell_type": "markdown",
   "metadata": {},
   "source": [
    "Write a pseudo-code description of a function that reverses a list of itegers, so that the numbers are listed in the opposite order than they ere before, and compare this method to an equivalent Python function or doing the same thing"
   ]
  },
  {
   "cell_type": "code",
   "execution_count": 209,
   "metadata": {},
   "outputs": [],
   "source": [
    "# I decided just to write it in Python, without pseudo-code \n",
    "def reverse_array(A):\n",
    "    n = len(A)\n",
    "    A_reversed = [0] * n\n",
    "    i = 0\n",
    "    while i < n:\n",
    "        A_reversed[i] = A[n-1-i]\n",
    "        i += 1\n",
    "    return A_reversed\n",
    "\n",
    "def reverse_array_comprehension(A):\n",
    "    return A[::-1]\n"
   ]
  },
  {
   "cell_type": "markdown",
   "metadata": {},
   "source": [
    "### C-1.14"
   ]
  },
  {
   "cell_type": "markdown",
   "metadata": {},
   "source": [
    "Write a short Python function that takes a sequence of integer values and determines if there is a distinct pair of numbers in the sequence whose product is odd."
   ]
  },
  {
   "cell_type": "code",
   "execution_count": 223,
   "metadata": {},
   "outputs": [],
   "source": [
    "# O(n^2) solution\n",
    "def odd_product(A):\n",
    "    n = len(A)\n",
    "    for i in range(n):\n",
    "        for j in range(n):\n",
    "            if A[i] != A[j] and (A[i] * A[j]) % 2 != 0:\n",
    "                return True\n",
    "    return False\n",
    "\n",
    "# O(n) solution \n",
    "# the trick is that the product of odd numbers is an odd number itself, so we need only one traversal \n",
    "def odd_product_sum(A):\n",
    "    n = len(A)\n",
    "    e = A[0]\n",
    "    for i in range(1, n):\n",
    "        if (e*A[i])%2 !=0: \n",
    "            return True\n",
    "    return False \n"
   ]
  },
  {
   "cell_type": "markdown",
   "metadata": {},
   "source": [
    "### C-1.15"
   ]
  },
  {
   "cell_type": "markdown",
   "metadata": {},
   "source": [
    "Write a Python function that takes a sequence of numbers and determines if all the numbers are different from each other (that is, they are distinct)."
   ]
  },
  {
   "cell_type": "code",
   "execution_count": 224,
   "metadata": {},
   "outputs": [],
   "source": [
    "# you can use set, probably the best solution here\n",
    "def is_distinct(A):\n",
    "    return len(set(A)) == len(A)\n",
    "\n",
    "# or use brute force and loop through each element n times \n",
    "def is_distinct_brute(A):\n",
    "    n = len(A)\n",
    "    for i in range(n):\n",
    "        for j in range(n):\n",
    "            if i != j and A[i] == A[j]:\n",
    "                return False\n",
    "    return True \n"
   ]
  },
  {
   "cell_type": "markdown",
   "metadata": {},
   "source": [
    "### C-1.18"
   ]
  },
  {
   "cell_type": "markdown",
   "metadata": {},
   "source": [
    "Demonstrate how to use Python’s list comprehension syntax to produce the list ${[0, 2, 6, 12, 20, 30, 42, 56, 72, 90]}$.\n"
   ]
  },
  {
   "cell_type": "code",
   "execution_count": 212,
   "metadata": {},
   "outputs": [],
   "source": [
    "def list_example(n=10):\n",
    "    return [i**2 - i for i in range (1,n+1)]\n"
   ]
  },
  {
   "cell_type": "markdown",
   "metadata": {},
   "source": [
    "### C-1.19"
   ]
  },
  {
   "cell_type": "markdown",
   "metadata": {},
   "source": [
    "Demonstrate how to use Python’s list comprehension syntax to produce the list ${[ a , b , c , ..., z ]}$, but without having to type all 26 such characters literally."
   ]
  },
  {
   "cell_type": "code",
   "execution_count": 227,
   "metadata": {},
   "outputs": [],
   "source": [
    "# the first method is just to import all English letters\n",
    "from string import ascii_lowercase\n",
    "\n",
    "def alphabet_list():\n",
    "    return [k for k in ascii_lowercase]\n",
    "\n",
    "# the second is to iterate over all characters using chr\n",
    "def alphabet_list_chr():\n",
    "    return [chr(97+i) for i in range(26)]\n"
   ]
  },
  {
   "cell_type": "markdown",
   "metadata": {},
   "source": [
    "### C-1.20"
   ]
  },
  {
   "cell_type": "markdown",
   "metadata": {},
   "source": [
    "Python’s random module includes a function shuffle(data) that accepts a list of elements and randomly reorders the elements so that each possible order occurs with equal probability. The random module includes a more basic function randint(a, b) that returns a uniformly random integer from a to b (including both endpoints). Using only the randint function, implement your own version of the shuffle function."
   ]
  },
  {
   "cell_type": "code",
   "execution_count": 214,
   "metadata": {},
   "outputs": [],
   "source": [
    "# basically an improved, modern version of the Fisher-Yates shuffle algorithm, e.g. Durstenfeld's version\n",
    "from random import randint\n",
    "\n",
    "def list_randomizer(A):\n",
    "    n = len(A)\n",
    "    for i in range(n-1, 0, -1):\n",
    "        j = randint(0, i)\n",
    "        A[i], A[j] = A[j], A[i]\n",
    "    return A\n"
   ]
  },
  {
   "cell_type": "markdown",
   "metadata": {},
   "source": [
    "### C-1.22"
   ]
  },
  {
   "cell_type": "markdown",
   "metadata": {},
   "source": [
    "Write a short Python program that takes two arrays a and b of length n storing int values, and returns the dot product of a and b. That is, it returns an array c of length n such that ${c[i] = a[i] · b[i]}$, for ${i = 0,...,n−1.}$"
   ]
  },
  {
   "cell_type": "code",
   "execution_count": 215,
   "metadata": {},
   "outputs": [],
   "source": [
    "def array_product(a, b):\n",
    "    n = len(a) # length of lists should be equal\n",
    "    c = [0] * n\n",
    "    for i in range(n):\n",
    "        c[i] = a[i] * b[i]\n",
    "    return c\n"
   ]
  },
  {
   "cell_type": "markdown",
   "metadata": {},
   "source": [
    "### C-1.23"
   ]
  },
  {
   "cell_type": "markdown",
   "metadata": {},
   "source": [
    "Give an example of a Python code fragment that attempts to write an element to a list based on an index that may be out of bounds. If that index is out of bounds, the program should catch the exception that results, and print the following error message: <br>“Don’t try buffer overflow attacks in Python!”"
   ]
  },
  {
   "cell_type": "code",
   "execution_count": 216,
   "metadata": {},
   "outputs": [],
   "source": [
    "def update(A, i, e):\n",
    "    try:\n",
    "        A[i] = e\n",
    "    except IndexError:\n",
    "        print('Don’t try buffer overflow attacks in Python!')\n"
   ]
  },
  {
   "cell_type": "markdown",
   "metadata": {},
   "source": [
    "### C-1.24"
   ]
  },
  {
   "cell_type": "markdown",
   "metadata": {},
   "source": [
    "Write a short Python function that counts the number of vowels in a given character string."
   ]
  },
  {
   "cell_type": "code",
   "execution_count": 217,
   "metadata": {},
   "outputs": [],
   "source": [
    "def vowel_counter(word):\n",
    "    counter = 0\n",
    "    for letter in word.lower():\n",
    "        counter += 1 if letter in 'aeiouy' else 0\n",
    "    return counter\n"
   ]
  },
  {
   "cell_type": "markdown",
   "metadata": {},
   "source": [
    "### C-1.25"
   ]
  },
  {
   "cell_type": "markdown",
   "metadata": {},
   "source": [
    "Write a short Python function that takes a string s, representing a sentence, and returns a copy of the string with all punctuation removed. For example, if given the string \"Let's try, Mike.\", this function would return \"Lets try Mike\"."
   ]
  },
  {
   "cell_type": "code",
   "execution_count": 218,
   "metadata": {},
   "outputs": [],
   "source": [
    "def punctuation_remover(sentence):\n",
    "    n = len(sentence)\n",
    "    new_sentence_list = [''] * n\n",
    "    for i in range(n):\n",
    "        if sentence[i] not in '.,\\'\"?!:;-':\n",
    "            new_sentence_list[i] = sentence[i]\n",
    "    return ''.join(new_sentence_list)\n"
   ]
  },
  {
   "cell_type": "markdown",
   "metadata": {},
   "source": [
    "### C-1.28"
   ]
  },
  {
   "cell_type": "markdown",
   "metadata": {},
   "source": [
    "The p-norm of a vector $v = {(v_1, v_2, ... , v_n)}$ in n-dimensional space is defined as $${||v|| = \\sqrt[p]{v_1^p + v_2^p + ... + v_n^p}}$$\n",
    "For the special case of ${p = 2}$, this results in the traditional Euclidean norm, which represents the length of the vector. For example, the Euclidean norm of a two-dimensional vector with coordinates ${(4,3)}$ has a Euclidean norm of $\\sqrt{42+32}$ = $\\sqrt{16+9}$ = $\\sqrt{25}$ = ${5}$. Give an implementation of a function named norm such that norm(v, p) returns the p-norm value of v and norm(v) returns the Euclidean norm of v. You may assume that v is a list of numbers."
   ]
  },
  {
   "cell_type": "code",
   "execution_count": 219,
   "metadata": {},
   "outputs": [],
   "source": [
    "# rounded up to 3 decimal points, for convenience\n",
    "def norm(v, p=2):\n",
    "    norm_sum = sum(v[i]**p for i in range(len(v)))    \n",
    "    return round((norm_sum)**(1/p), 3)\n"
   ]
  }
 ],
 "metadata": {
  "kernelspec": {
   "display_name": "Python 3",
   "language": "python",
   "name": "python3"
  },
  "language_info": {
   "codemirror_mode": {
    "name": "ipython",
    "version": 3
   },
   "file_extension": ".py",
   "mimetype": "text/x-python",
   "name": "python",
   "nbconvert_exporter": "python",
   "pygments_lexer": "ipython3",
   "version": "3.7.2"
  }
 },
 "nbformat": 4,
 "nbformat_minor": 4
}
