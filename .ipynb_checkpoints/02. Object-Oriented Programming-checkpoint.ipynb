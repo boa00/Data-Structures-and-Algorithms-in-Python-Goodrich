{
 "cells": [
  {
   "cell_type": "markdown",
   "metadata": {},
   "source": [
    "# Chapter 2. Object-Oriented Programming"
   ]
  },
  {
   "cell_type": "markdown",
   "metadata": {},
   "source": [
    "This chapter focuses on the principles of object-oriented design in Python."
   ]
  },
  {
   "cell_type": "markdown",
   "metadata": {},
   "source": [
    "## Reinforcement"
   ]
  },
  {
   "cell_type": "markdown",
   "metadata": {},
   "source": [
    "### R-2.4"
   ]
  },
  {
   "cell_type": "markdown",
   "metadata": {},
   "source": [
    "Write a Python class, Flower, that has three instance variables of type str, int, and float, that respectively represent the name of the flower, its number of petals, and its price. Your class must include a constructor method that initializes each variable to an appropriate value, and your class should include methods for setting the value of each type, and retrieving the value of each type."
   ]
  },
  {
   "cell_type": "code",
   "execution_count": 1,
   "metadata": {},
   "outputs": [],
   "source": [
    "class Flower:\n",
    "  \n",
    "    def __init__(self, name, petals_number, price):\n",
    "        self._name = name\n",
    "        self._petals_number = petals_number\n",
    "        self._price = price\n",
    "    \n",
    "    def get_name(self):\n",
    "        return self._name\n",
    "\n",
    "    def get_petals_number(self):\n",
    "        return self._petals_number\n",
    "  \n",
    "    def get_price(self):\n",
    "        return self._price\n",
    "\n",
    "    def set_name(self, name):\n",
    "        self._name = name\n",
    "\n",
    "    def set_petals_number(self, petals_number):\n",
    "        self._petals_number = petals_number\n",
    "\n",
    "    def set_price(self, price):\n",
    "        self._price = price\n",
    "        "
   ]
  },
  {
   "cell_type": "markdown",
   "metadata": {},
   "source": [
    "### R-2.5, R-2.6, R-2.7"
   ]
  },
  {
   "cell_type": "markdown",
   "metadata": {},
   "source": [
    "Use the techniques of Section 1.7 to revise the charge and make payment methods of the CreditCard class to ensure that the caller sends a number as a parameter."
   ]
  },
  {
   "cell_type": "markdown",
   "metadata": {},
   "source": [
    "If the parameter to the make payment method of the CreditCard class were a negative number, that would have the effect of raising the balance on the account. Revise the implementation so that it raises a ValueError if a negative value is sent"
   ]
  },
  {
   "cell_type": "markdown",
   "metadata": {},
   "source": [
    "The CreditCard class of Section 2.3 initializes the balance of a new account to zero. Modify that class so that a new account can be given a nonzero balance using an optional fifth parameter to the constructor. The four-parameter constructor syntax should continue to produce an account with zero balance."
   ]
  },
  {
   "cell_type": "code",
   "execution_count": 2,
   "metadata": {},
   "outputs": [],
   "source": [
    "class CreditCard:\n",
    "\n",
    "    def __init__(self, customer, bank, acnt, limit, balance = 0):\n",
    "        self._customer = customer\n",
    "        self._bank = bank\n",
    "        self._account = acnt\n",
    "        self._limit = limit\n",
    "        self._balance = balance\n",
    "\n",
    "    def get_customer(self):\n",
    "        return self._customer\n",
    "\n",
    "    def get_bank(self):\n",
    "        return self._bank\n",
    "\n",
    "    def get_account(self):\n",
    "        return self._account\n",
    "\n",
    "    def get_limit(self):\n",
    "        return self._limit\n",
    "\n",
    "    def get_balance(self):\n",
    "        return self._balance\n",
    "\n",
    "    def charge(self, price):\n",
    "        if price + self._balance > self._limit:\n",
    "            return False\n",
    "        else:\n",
    "            self._balance += price\n",
    "            return True\n",
    "\n",
    "    def make_payment(self, amount):\n",
    "        try:\n",
    "            amount = int(amount)\n",
    "        except TypeError as e:\n",
    "            print(e)\n",
    "        if amount < 0:\n",
    "            raise ValueError('The amount should be positive!')\n",
    "        self._balance -= amount\n",
    "        "
   ]
  },
  {
   "cell_type": "markdown",
   "metadata": {},
   "source": [
    "### R-2.9"
   ]
  },
  {
   "cell_type": "markdown",
   "metadata": {},
   "source": [
    "Implement the sub method for the Vector class of Section 2.3.3, so that the expression ${u}$ - ${v}$ returns a new vector instance representing the difference between two vectors."
   ]
  },
  {
   "cell_type": "markdown",
   "metadata": {},
   "source": [
    "### R-2.10"
   ]
  },
  {
   "cell_type": "markdown",
   "metadata": {},
   "source": [
    "Implement the neg method for the Vector class of Section 2.3.3, so that the expression ${−v}$ returns a new vector instance whose coordinates are all the negated values of the respective coordinates of ${v}$."
   ]
  },
  {
   "cell_type": "markdown",
   "metadata": {},
   "source": [
    "### R-2.11"
   ]
  },
  {
   "cell_type": "markdown",
   "metadata": {},
   "source": [
    "In Section 2.3.3, we note that our Vector class supports a syntax such as ${v = u + [5, 3, 10, − 2, 1]}$, in which the sum of a vector and list returns a new vector. However, the syntax ${v = [5, 3, 10, - 2, 1] + u}$ is illegal. Explain how the Vector class definition can be revised so that this syntax generates a new vector."
   ]
  },
  {
   "cell_type": "markdown",
   "metadata": {},
   "source": [
    "### R-2.12"
   ]
  },
  {
   "cell_type": "markdown",
   "metadata": {},
   "source": [
    "Implement the mul method for the Vector class of Section 2.3.3, so that the expression ${v*3}$ returns a new vector with coordinates that are 3 times the respective coordinates of ${v}$."
   ]
  },
  {
   "cell_type": "markdown",
   "metadata": {},
   "source": [
    "### R-2.13"
   ]
  },
  {
   "cell_type": "markdown",
   "metadata": {},
   "source": [
    "Exercise R-2.12 asks for an implementation of mul , for the Vector class of Section 2.3.3, to provide support for the syntax ${v * 3}$. Implement the rmul method, to provide additional support for syntax ${3 * v}$."
   ]
  },
  {
   "cell_type": "markdown",
   "metadata": {},
   "source": [
    "### R-2.14"
   ]
  },
  {
   "cell_type": "markdown",
   "metadata": {},
   "source": [
    "Implement the mul method for the Vector class of Section 2.3.3, so that the expression u v returns a scalar that represents the dot product of the vectors, that is, $\\sum_{i=1}^d u_i*v_i$.\n"
   ]
  },
  {
   "cell_type": "markdown",
   "metadata": {},
   "source": [
    "### R-2.15"
   ]
  },
  {
   "cell_type": "markdown",
   "metadata": {},
   "source": [
    "The Vector class of Section 2.3.3 provides a constructor that takes an integer d, and produces a d-dimensional vector with all coordinates equal to 0. Another convenient form for creating a new vector would be to send the constructor a parameter that is some iterable type representing a sequence of numbers, and to create a vector with dimension equal to the length of that sequence and coordinates equal to the sequence values. For example, Vector([4, 7, 5]) would produce a three-dimensional vector with coordinates <4, 7, 5>. Modify the constructor so that either of these forms is acceptable; that is, if a single integer is sent, it produces a vector of that dimension with all zeros, but if a sequence of numbers is provided, it produces a vector with coordinates based on that sequence."
   ]
  },
  {
   "cell_type": "code",
   "execution_count": 3,
   "metadata": {},
   "outputs": [],
   "source": [
    "class Vector:\n",
    "  \n",
    "    def __init__(self, d):\n",
    "        if isinstance(d, list):\n",
    "            n = len(d)\n",
    "            self._coords = [0] * n\n",
    "            for i in range(n):\n",
    "                self._coords[i] = d[i]\n",
    "        else:\n",
    "            self._coords = [0] * d\n",
    "            \n",
    "    def __len__(self):\n",
    "        return len(self._coords)\n",
    "\n",
    "    def __getitem__(self, j):\n",
    "        return self._coords[j]\n",
    "\n",
    "    def __setitem__(self, j, val):\n",
    "        self._coords[j] = val\n",
    "\n",
    "    ''' An answer to R-2.11: The reason is that the list data structure doesn't know how to 'act' when \n",
    "    it is multiplied by our object of the Vector class. The python moves to the right, \n",
    "    to the instance of our class, which supports multiplication only when it is on the left sight.\n",
    "    So, we need to implement __radd__ in the Vector '''\n",
    "    \n",
    "    def __add__(self, other):\n",
    "        result = self._add(other)\n",
    "        return result\n",
    "\n",
    "    def __radd__(self, other):\n",
    "        result = self._add(other)\n",
    "        return result\n",
    "\n",
    "    def __sub__(self, other):\n",
    "        if len(self) != len(other):\n",
    "            raise ValueError('Dimensions must agree')\n",
    "        n = len(self)\n",
    "        result = Vector(n)\n",
    "        for i in range(n):\n",
    "            result[i] = self[i] - other[i]\n",
    "        return result\n",
    "\n",
    "    def __eq__(self, other):\n",
    "        return self._coords == other._coords\n",
    "\n",
    "    def __ne__(self, other):\n",
    "        return not self == other\n",
    "\n",
    "    def __neg__(self):\n",
    "        n = len(self)\n",
    "        result = Vector(n)\n",
    "        for i in range(n):\n",
    "            result[i] = -self[i]\n",
    "        return result\n",
    "\n",
    "    def __mul__(self, other):\n",
    "        result = self._mul(other)\n",
    "        return result  \n",
    "\n",
    "    def __rmul__(self, other):\n",
    "        result = self._mul(other)\n",
    "        return result\n",
    "    \n",
    "    def __str__(self):\n",
    "        return '<' + str(self._coords)[1:-1] + '>'\n",
    "    \n",
    "    # wrote both left/rigt multiplication/addition in separate functions### R-2.10\n",
    "    # repeating code\n",
    "    def _mul(self, factor):\n",
    "        if not isinstance(factor, int):\n",
    "            if len(self) != len(factor):\n",
    "                raise ValueError('Dimensions must agree')\n",
    "        n = len(self)\n",
    "        result = Vector(n)\n",
    "        for i in range(n):\n",
    "            result[i] = self[i] * factor if isinstance(factor, int) else self[i] * factor[i]\n",
    "        return result  \n",
    "    \n",
    "    def _add(self, add):\n",
    "        if len(self) != len(add):\n",
    "            raise ValueError('Dimensions must agree')\n",
    "        n = len(self)\n",
    "        result = Vector(n)\n",
    "        for i in range(n):\n",
    "            result[i] = self[i] + add[i]\n",
    "        return result\n"
   ]
  },
  {
   "cell_type": "markdown",
   "metadata": {},
   "source": [
    "### R-2.22"
   ]
  },
  {
   "cell_type": "markdown",
   "metadata": {},
   "source": [
    "The collections.Sequence abstract base class does not provide support for comparing two sequences to each other. Modify our Sequence class from Code Fragment 2.14 to include a definition for the eq method, so that expression seq1 == seq2 will return True precisely when the two sequences are element by element equivalent."
   ]
  },
  {
   "cell_type": "markdown",
   "metadata": {},
   "source": [
    "### R-2.23"
   ]
  },
  {
   "cell_type": "markdown",
   "metadata": {},
   "source": [
    "In similar spirit to the previous problem, augment the Sequence class with method lt , to support lexicographic comparison seq1 < seq2."
   ]
  },
  {
   "cell_type": "code",
   "execution_count": 26,
   "metadata": {},
   "outputs": [],
   "source": [
    "from abc import ABCMeta, abstractmethod\n",
    "\n",
    "class Sequence(metaclass=ABCMeta):\n",
    "\n",
    "# for some reasons abstractmethod gives an error as if the block is not intended \n",
    "# haven't figured out how to fix it, yet \n",
    "# it basically means that the class doesn't work :(\n",
    "# you can convert it though to a normal class and everything will be fine \n",
    "\n",
    "#     @abstractmethod\n",
    "#     def __len__(self):\n",
    "    \n",
    "#     @abstractmethod\n",
    "#     def __getitem__(self, j):\n",
    "\n",
    "    def __contains__(self, val):\n",
    "        for i in range(len(self)):\n",
    "            if self[j] == val:\n",
    "                return True\n",
    "        return False\n",
    "\n",
    "    def index(self, val):\n",
    "        for j in range(len(self)):\n",
    "            if self[j] == val:\n",
    "                return j\n",
    "        raise ValueError('value not in sequence')\n",
    "\n",
    "    def count(self, val):\n",
    "        k = 0\n",
    "        for j in range(len(self)):\n",
    "            if self[j] == val:\n",
    "                k += 1\n",
    "        return k\n",
    "\n",
    "    def __eq__(self, other):\n",
    "        if len(other) != len(self):\n",
    "            raise ValueError('sequence sizes must be equal')\n",
    "        n = len(self)\n",
    "        for i in range(n):\n",
    "            if self[i] != other[i]:\n",
    "                return False\n",
    "        return True\n",
    "\n",
    "    def __lt__(self, other):\n",
    "        if len(other) != len(self):\n",
    "            raise ValueError('sequence sizes must be equal')\n",
    "        n = len(self)\n",
    "        for i in range(n):\n",
    "            if self[i] >= other[i]:\n",
    "                return False\n",
    "        return True\n",
    "    "
   ]
  },
  {
   "cell_type": "markdown",
   "metadata": {},
   "source": [
    "## Creativiy"
   ]
  },
  {
   "cell_type": "markdown",
   "metadata": {},
   "source": [
    "### C-2.25"
   ]
  },
  {
   "cell_type": "markdown",
   "metadata": {},
   "source": [
    "Exercise R-2.12 uses the mul method to support multiplying a Vector by a number, while Exercise R-2.14 uses the mul method to support computing a dot product of two vectors. Give a single implementation of Vector. mul that uses run-time type checking to support both syntaxes ${u*v}$ and ${u*k}$, where ${u}$ and ${v}$ designate vector instances and ${k}$ represents a number."
   ]
  },
  {
   "cell_type": "code",
   "execution_count": 1,
   "metadata": {},
   "outputs": [],
   "source": [
    "# I did it in the vector class above\n"
   ]
  },
  {
   "cell_type": "markdown",
   "metadata": {},
   "source": [
    "### C-2.26"
   ]
  },
  {
   "cell_type": "markdown",
   "metadata": {},
   "source": [
    "The SequenceIterator class of Section 2.3.4 provides what is known as a forward iterator. Implement a class named ReversedSequenceIterator that serves as a reverse iterator for any Python sequence type. The first call to next should return the last element of the sequence, the second call to next should return the second-to-last element, and so forth."
   ]
  },
  {
   "cell_type": "code",
   "execution_count": 6,
   "metadata": {},
   "outputs": [],
   "source": [
    "class ReversedSequenceIterator:\n",
    "\n",
    "    def __init__(self, sequence):\n",
    "        self._seq = sequence\n",
    "        self._k = 0\n",
    "\n",
    "    def __next__(self):\n",
    "        self._k -= 1\n",
    "        if -self._k <= len(self._seq):\n",
    "            return self._seq[self._k]\n",
    "        else:\n",
    "            raise StopIteration()\n",
    "            \n",
    "    def __iter__(self):\n",
    "        return self\n",
    "            "
   ]
  },
  {
   "cell_type": "markdown",
   "metadata": {},
   "source": [
    "### C-2.27"
   ]
  },
  {
   "cell_type": "markdown",
   "metadata": {},
   "source": [
    "In Section 2.3.5, we note that our version of the Range class has implicit support for iteration, due to its explicit support of both len and getitem . The class also receives implicit support of the Boolean test, “k in r” for Range r. This test is evaluated based on a forward iteration through the range, as evidenced by the relative quickness of the test 2 in Range(10000000) versus 9999999 in Range(10000000). Provide a more efficient implementation of the contains method to determine whether a particular value lies within a given range. The running time of your method should be independent of the length of the range."
   ]
  },
  {
   "cell_type": "code",
   "execution_count": 7,
   "metadata": {},
   "outputs": [],
   "source": [
    "class Range:\n",
    "\n",
    "    def __init__(self, start, stop = None, step = 1):\n",
    "        if step == 0:\n",
    "            raise ValueError('step cannot be 0')\n",
    "        if stop is None:\n",
    "            start, stop = 0, start\n",
    "        self._length = max(0, (stop - start + step -1) // step)\n",
    "        self._start = start\n",
    "        self._step = step\n",
    "\n",
    "    def __len__(self):\n",
    "        return self._length\n",
    "\n",
    "    def __getitem__(self, k):\n",
    "        if k < 0:\n",
    "            k += len(self)\n",
    "        if not 0 <= k <= self._length:\n",
    "            raise IndexError('index out of range')\n",
    "        return self._start + k * self._step\n",
    "\n",
    "    def __contains__(self, val):\n",
    "        return (self._start + self._length*self._step) >= val and self._start <= val and (val - self._start) % self._step == 0\n"
   ]
  },
  {
   "cell_type": "markdown",
   "metadata": {},
   "source": [
    "### C-2.31"
   ]
  },
  {
   "cell_type": "markdown",
   "metadata": {},
   "source": [
    "Write a Python class that extends the Progression class so that each value in the progression is the absolute value of the difference between the previous two values. You should include a constructor that accepts a pair of numbers as the first two values, using 2 and 200 as the defaults."
   ]
  },
  {
   "cell_type": "markdown",
   "metadata": {},
   "source": [
    "### C-2.32"
   ]
  },
  {
   "cell_type": "markdown",
   "metadata": {},
   "source": [
    "Write a Python class that extends the Progression class so that each value in the progression is the square root of the previous value. (Note that you can no longer represent each value with an integer.) Your constructor should accept an optional parameter specifying the start value, using 65,536 as a default."
   ]
  },
  {
   "cell_type": "code",
   "execution_count": 24,
   "metadata": {},
   "outputs": [],
   "source": [
    "import math \n",
    "\n",
    "class Progression:\n",
    "\n",
    "    def __init__(self, start = 0):\n",
    "        self._current = start\n",
    "\n",
    "    def _advance(self):\n",
    "        self._current += 1\n",
    "\n",
    "    def __next__(self):\n",
    "        if self._current is None:\n",
    "            raise StopIteration()\n",
    "        else:\n",
    "            answer = self._current\n",
    "            self._advance()\n",
    "            return answer\n",
    "\n",
    "    def __iter__(self):\n",
    "        return self\n",
    "\n",
    "    def print_progression(self, n):\n",
    "        print(' '.join(str(next(self)) for j in range(n)))\n",
    "\n",
    "class Absolute(Progression):\n",
    "\n",
    "    def __init__(self, first = 2, second = 200):\n",
    "        self._current = second\n",
    "        self._prev = first\n",
    "\n",
    "    def _advance(self):\n",
    "        self._current, self._prev = abs(self._current - self._prev), self._current\n",
    "\n",
    "class Squares(Progression):\n",
    "\n",
    "    def __init__(self, start=65536):\n",
    "        super().__init__(start)\n",
    "\n",
    "    def _advance(self):\n",
    "        self._current, self._prev = math.sqrt(self._current), self._current\n",
    "    "
   ]
  }
 ],
 "metadata": {
  "kernelspec": {
   "display_name": "Python 3",
   "language": "python",
   "name": "python3"
  },
  "language_info": {
   "codemirror_mode": {
    "name": "ipython",
    "version": 3
   },
   "file_extension": ".py",
   "mimetype": "text/x-python",
   "name": "python",
   "nbconvert_exporter": "python",
   "pygments_lexer": "ipython3",
   "version": "3.7.2"
  }
 },
 "nbformat": 4,
 "nbformat_minor": 4
}
