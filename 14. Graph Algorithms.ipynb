{
 "cells": [
  {
   "cell_type": "markdown",
   "metadata": {},
   "source": [
    "# Chater 14. Graph Algorithms"
   ]
  },
  {
   "cell_type": "markdown",
   "metadata": {},
   "source": [
    "The chapter is on graphs: their implementations (edge list, adjacency list/adjacency map, adjacency matrix) and algorithms (BFS/DFS traversals, Dijkstra’s algorithm)."
   ]
  },
  {
   "cell_type": "markdown",
   "metadata": {},
   "source": [
    "## Important Data Structures and Algorithms "
   ]
  },
  {
   "cell_type": "code",
   "execution_count": 14,
   "metadata": {},
   "outputs": [],
   "source": [
    "# the main graph representation for the chapter\n",
    "# simplified it a bit (without Vertex and Edge classes, as described in the book)\n",
    "# I also modified incident_edges(v) for the simplicity of traversal algorithms\n",
    "class Graph:\n",
    "\n",
    "    def __init__(self, directed=False):\n",
    "        self._outgoing = {}\n",
    "        self._incoming = {} if directed else self._outgoing\n",
    "\n",
    "    def is_directed(self):\n",
    "        return self._outgoing is not self._incoming\n",
    "\n",
    "    def vertex_count(self):\n",
    "        return len(self._outgoing)\n",
    "\n",
    "    def edge_count(self):\n",
    "        count = 0\n",
    "        for vertex in list(self._outgoing.values()):\n",
    "            count += len(vertex)\n",
    "        return count if self.is_directed() else count // 2\n",
    "\n",
    "    def vertices(self):\n",
    "        return list(self._outgoing.keys())\n",
    "\n",
    "    def edges(self):\n",
    "        edges = set()\n",
    "        for vertex in self._outgoing:\n",
    "            edges.update((list(self._outgoing[vertex].values())))        \n",
    "        return list(edges)\n",
    "\n",
    "    def get_edge(self, u, v):\n",
    "        return self._outgoing[u].get(v)\n",
    "\n",
    "    def degree(self, v, outgoing = True):\n",
    "        edges = self._outgoing if outgoing else self._incoming\n",
    "        return(len(edges[v]))\n",
    "\n",
    "    def incident_edges(self, v, outgoing = True):\n",
    "        edges = self._outgoing if outgoing else self._incoming\n",
    "        return edges[v]\n",
    "\n",
    "    def insert_vertex(self, v):\n",
    "        self._outgoing[v] = {}\n",
    "        self._incoming[v] = {}\n",
    "\n",
    "# C-14.37\n",
    "# O(n), I dont see a faster method in their implementation of adjacency map\n",
    "# the whole data structure should rewritte to support O(deg[v])\n",
    "    def remove_vertex(self, v):\n",
    "        self._outgoing.pop(v, None)\n",
    "        for vertex in list(self._outgoing.values()):\n",
    "            vertex.pop(v, None)\n",
    "        if self.is_directed():\n",
    "            self._incoming.pop(v, None)\n",
    "            for vertex in list(self._incoming.values()):\n",
    "                vertex.pop(v, None)\n",
    "\n",
    "    def insert_edge(self, u, v, x):\n",
    "        self._outgoing[u][v] = x\n",
    "        self._incoming[v][u] = x\n",
    "\n",
    "# C-14.38\n",
    "# O(1) time complexity\n",
    "    def remove_edge(self, u, v):\n",
    "        self._outgoing[u].pop(v, None)\n",
    "        self._incoming[v].pop(u, None)\n",
    "\n",
    "\n",
    "# here are my implementations of Depth-first search and Breadth-first search\n",
    "# I like this version better and it fits my ADT for a graph\n",
    "# I don't store edge values (as they do in the book) as I see no real value in them so far \n",
    "def DFS(g, u, discovered):\n",
    "    if u not in discovered:\n",
    "        discovered[u] = None\n",
    "        for e in list(g.incident_edges(u).keys()):\n",
    "            DFS(g, e, discovered)\n",
    "\n",
    "def BFS(g, s, discovered):\n",
    "    level = [s]\n",
    "    while len(level) > 0:\n",
    "        next_level = []\n",
    "        for u in level:\n",
    "            for e in list(g.incident_edges(u).keys()):\n",
    "                if e not in discovered:\n",
    "                    discovered[e] = None\n",
    "                    next_level.append(e)\n",
    "        level = next_level\n",
    "\n",
    "# my implimentation of Dijkstra’s algorithm, used priority queue from the standard \n",
    "# library, has the same time-complexity\n",
    "import heapq\n",
    "\n",
    "def shortest_path(g, src):\n",
    "    paths = {vertex : 0 if vertex == src else float('inf') for vertex in g.vertices()}\n",
    "    visited = {vertex : False for vertex in g.vertices()}\n",
    "    q = []\n",
    "    heapq.heappush(q, (paths[src], src))\n",
    "    while len(q)>0:\n",
    "        vertex = heapq.heappop(q)[1]\n",
    "        visited[vertex] = True\n",
    "        for v, e in g.incident_edges(vertex).items():\n",
    "            if paths[vertex] + e < paths[v]:\n",
    "                paths[v] = paths[vertex] + e\n",
    "            if not visited[v]:\n",
    "                heapq.heappush(q, (paths[v], v))\n",
    "    return paths\n"
   ]
  },
  {
   "cell_type": "markdown",
   "metadata": {},
   "source": [
    "## Reinforcement"
   ]
  },
  {
   "cell_type": "markdown",
   "metadata": {},
   "source": [
    "## R-14.6"
   ]
  },
  {
   "cell_type": "markdown",
   "metadata": {},
   "source": [
    "Suppose we represent a graph ${G}$ having ${n}$ vertices and ${m}$ edges with the edge list structure. Why, in this case, does the insert vertex method run in ${O(1)}$ time while the remove vertex method runs in ${O(m)}$ time?"
   ]
  },
  {
   "cell_type": "code",
   "execution_count": 4,
   "metadata": {},
   "outputs": [],
   "source": [
    "# the reason is that to insert an edge we either extend a list (amortized O(1)) or a linked\n",
    "# list (O(1)). To delede an edge we need to scan through all edges m to find the right one\n",
    "# so we have O(m) in this case\n"
   ]
  },
  {
   "cell_type": "markdown",
   "metadata": {},
   "source": [
    "## R-14.7"
   ]
  },
  {
   "cell_type": "markdown",
   "metadata": {},
   "source": [
    "Give pseudo-code for performing the operation insert_edge(u,v,x) in ${O(1)}$ time using the adjacency matrix representation."
   ]
  },
  {
   "cell_type": "code",
   "execution_count": 15,
   "metadata": {},
   "outputs": [],
   "source": [
    "# I have a full implementation in P-14.74 GraphAdjMatrix class as insert_edge(self, u, v, x) method\n"
   ]
  },
  {
   "cell_type": "markdown",
   "metadata": {},
   "source": [
    "## Creativity"
   ]
  },
  {
   "cell_type": "markdown",
   "metadata": {},
   "source": [
    "## C-14.37"
   ]
  },
  {
   "cell_type": "markdown",
   "metadata": {},
   "source": [
    "Give a Python implementation of the remove_vertex(v) method for our adjacency map implementation of Section 14.2.5, making sure your implementation works for both directed and undirected graphs. Your method should run in ${O(deg(v))}$ time."
   ]
  },
  {
   "cell_type": "code",
   "execution_count": 5,
   "metadata": {},
   "outputs": [],
   "source": [
    "# I'd say I've failed here. I don't see a way how in their data structure it could run in the asked time\n",
    "# see the method remove_vertex(self, v) in the Graph class at the very top with O(n) complexity\n"
   ]
  },
  {
   "cell_type": "markdown",
   "metadata": {},
   "source": [
    "## C-14.38"
   ]
  },
  {
   "cell_type": "markdown",
   "metadata": {},
   "source": [
    "Give a Python implementation of the remove_edge(e) method for our adjacency map implementation of Section 14.2.5, making sure your implementation works for both directed and undirected graphs. Your method should run in ${O(1)}$ time."
   ]
  },
  {
   "cell_type": "code",
   "execution_count": 6,
   "metadata": {},
   "outputs": [],
   "source": [
    "# see the method edge(self, e) in the Graph class at the very top \n"
   ]
  },
  {
   "cell_type": "markdown",
   "metadata": {},
   "source": [
    "## C-14.51"
   ]
  },
  {
   "cell_type": "markdown",
   "metadata": {},
   "source": [
    "Provide an implementation of the BFS algorithm that uses a FIFO queue, rather than a level-by-level formulation, to manage vertices that have been discovered until the time when their neighbors are considered."
   ]
  },
  {
   "cell_type": "code",
   "execution_count": 8,
   "metadata": {},
   "outputs": [],
   "source": [
    "from queue import Queue\n",
    "\n",
    "def BFS_queue(g, s, discovered):\n",
    "    q = Queue(maxsize = g.vertex_count())\n",
    "    q.put(s)\n",
    "    discovered[s] = None\n",
    "    while not q.empty():\n",
    "        v = q.get()\n",
    "        for u in list(g.incident_edges(u).keys()):\n",
    "            if u not in discovered:\n",
    "                discovered[u] = None\n",
    "                q.put(u)\n",
    "    return (list(discovered.keys()))\n"
   ]
  },
  {
   "cell_type": "markdown",
   "metadata": {},
   "source": [
    "## C-14.59"
   ]
  },
  {
   "cell_type": "markdown",
   "metadata": {},
   "source": [
    "Design an efficient algorithm for finding a longest directed path from a vertex ${s}$ to a vertex ${t}$ of an acyclic weighted directed graph ${\\vec{G}^{\\,}}$. Specify the graph representation used and any auxiliary data structures used. Also, analyze the time complexity of your algorithm"
   ]
  },
  {
   "cell_type": "code",
   "execution_count": 11,
   "metadata": {},
   "outputs": [],
   "source": [
    "# the only change is in the sign of normalization process (and '-inf') and in the heap structure\n",
    "# python doesn't have a builtin heap with the maximum value at the top, so I just added edges with minus sign\n",
    "# time-complexity is the same as for the regular Dijkstra's algorithm: O([n+m]logn), where n - number of nodes\n",
    "# m - number of edges\n",
    "# the data structres used are maximum heap, list and dictionary\n",
    "\n",
    "def longest_path(g, src):\n",
    "    paths = {vertex : 0 if vertex == src else float('-inf') for vertex in g.vertices()}\n",
    "    visited = {vertex : False for vertex in g.vertices()}\n",
    "    q = []\n",
    "    heapq.heappush(q, (paths[src], src))\n",
    "    while len(q)>0:\n",
    "        vertex = heapq.heappop(q)[1]\n",
    "        visited[vertex] = True\n",
    "        for v, e in g.incident_edges(vertex).items():\n",
    "            if paths[vertex] + e > paths[v]:\n",
    "                paths[v] = paths[vertex] + e\n",
    "            if not visited[v]:\n",
    "                heapq.heappush(q, (-paths[v], v))\n",
    "    return paths\n"
   ]
  },
  {
   "cell_type": "markdown",
   "metadata": {},
   "source": [
    "## Projects"
   ]
  },
  {
   "cell_type": "markdown",
   "metadata": {},
   "source": [
    "## P-14.74"
   ]
  },
  {
   "cell_type": "markdown",
   "metadata": {},
   "source": [
    "Use an adjacency matrix to implement a class supporting a simplified graph ADT that does not include update methods. Your class should include a constructor method that takes two collections - a collection ${V}$ of vertex elements and a collection ${E}$ of pairs of vertex elements—and produces the graph G that these two collections represent."
   ]
  },
  {
   "cell_type": "code",
   "execution_count": 10,
   "metadata": {},
   "outputs": [],
   "source": [
    "# I took it one stem forward and written the whole functioning class\n",
    "# here the code got quite ugly from time to time \n",
    "# could not make edges() run in O(m)\n",
    "# if I change the data structure to achieve O(m) there, other important functions\n",
    "# suffer in terms of time complexity, so it was kind of a tradeoff\n",
    "\n",
    "class GraphAdjMatrix:\n",
    "\n",
    "    def __init__(self, directed=False):\n",
    "        self._matrix = []\n",
    "        self._vertices = {}\n",
    "        self._edges_count = 0\n",
    "        self._directed = directed\n",
    "\n",
    "    def is_directed(self):\n",
    "        return self._directed\n",
    "\n",
    "    def vertex_count(self): \n",
    "        return len(self._vertices)\n",
    "\n",
    "    def edge_count(self): \n",
    "        return self._edges_count\n",
    "\n",
    "    def vertices(self): \n",
    "        return list(self._vertices.keys())\n",
    "\n",
    "    def edges(self):\n",
    "        edges = set()\n",
    "        n = self.vertex_count()\n",
    "        for i in range(n):\n",
    "            for j in range(n):\n",
    "                if self._matrix[i][j] != 0:\n",
    "                    edges.add(self._matrix[i][j])\n",
    "        return list(edges)\n",
    "\n",
    "    def get_edge(self, u, v):\n",
    "        u_index =  self._vertices[u]\n",
    "        v_index =  self._vertices[v]\n",
    "        return self._matrix[u][v]\n",
    "\n",
    "    def degree(self, v, outgoing=True):\n",
    "        deg = 0\n",
    "        v_index = self._vertices[v]\n",
    "        if outgoing:\n",
    "            deg = sum(x != 0 for x in self._matrix[v_index])\n",
    "        else:\n",
    "            deg = sum(x[v_index] != 0 for x in self._matrix)\n",
    "        return deg\n",
    "    \n",
    "    def incident_edges(self, v, outgoing=True): \n",
    "        edges = []\n",
    "        v_index = self._vertices[v]\n",
    "        if outgoing:\n",
    "            edges = [x for x in self._matrix[v_index] if x != 0]\n",
    "        else:\n",
    "            edges = [x[v_index] for x in self._matrix if x[v_index] != 0]\n",
    "        return list(set(edges))\n",
    "\n",
    "    def insert_vertex(self, v):\n",
    "        old = self._matrix.copy()\n",
    "        n = len(old)\n",
    "        if n == 0:\n",
    "            self._matrix = [[0]]\n",
    "        else:\n",
    "            self._matrix = [[0]*(n+1) for i in range(n+1)]\n",
    "            for i in range(n+1):\n",
    "                for j in range(n+1):\n",
    "                    if i != n and j != n:\n",
    "                        self._matrix[i][j] = old[i][j]\n",
    "        self._vertices[v] = n\n",
    "\n",
    "    def remove_vertex(self, v):\n",
    "        self._edges_count -= self.degree(v)\n",
    "        removed_vertex_index = self._vertices[v]\n",
    "        self._change_vertex_list(v)\n",
    "        n = len(self._matrix)\n",
    "        new = []*(n-1)*(n-1)\n",
    "        for i in range(n):\n",
    "            for j in range(n):\n",
    "                if not (i == removed_vertex_index or j == removed_vertex_index):\n",
    "                    new.append(self._matrix[i][j])\n",
    "        self._matrix = [[0]*(n-1) for i in range(n-1)]\n",
    "        k = 0\n",
    "        for i in range(n-1):\n",
    "            for j in range(n-1):\n",
    "                self._matrix[i][j] = new[k]\n",
    "                k+= 1\n",
    "                \n",
    "# R-14.7\n",
    "        \n",
    "    def insert_edge(self, u, v, x): \n",
    "        self._change_edge(u, v, x)\n",
    "        self._edges_count += 1\n",
    "\n",
    "    def remove_edge(self, u, v): \n",
    "        self._change_edge(u, v, 0)\n",
    "        self._edges_count -= 1\n",
    "\n",
    "    def _change_vertex_list(self, v):\n",
    "        self._vertices.pop(v)\n",
    "        i = 0\n",
    "        for vertex in self._vertices:\n",
    "            self._vertices[vertex] = i\n",
    "            i += 1\n",
    "      \n",
    "    def _change_edge(self, u, v, x):\n",
    "        u_index = self._vertices[u]\n",
    "        v_index = self._vertices[v]\n",
    "        self._matrix[u_index][v_index] = x\n",
    "        if not self.is_directed():\n",
    "            self._matrix[v_index][u_index] = x\n",
    "            "
   ]
  },
  {
   "cell_type": "markdown",
   "metadata": {},
   "source": [
    "## P-14.75"
   ]
  },
  {
   "cell_type": "markdown",
   "metadata": {},
   "source": [
    "Implement the simplified graph ADT described in Project P-14.74, using the edge list structure."
   ]
  },
  {
   "cell_type": "code",
   "execution_count": 3,
   "metadata": {},
   "outputs": [],
   "source": [
    "# the same point as in the P-14.74: I decided to give a complete implementation\n",
    "# note that linked list could've been used for better average time-complexity (it removes amortization issue) \n",
    "class GraphEdgeList:\n",
    "\n",
    "    def __init__(self, directed=False):\n",
    "        self._vertices = []\n",
    "        self._edges = []\n",
    "        self._directed = directed\n",
    "\n",
    "    def is_directed(self): \n",
    "        return self._directed\n",
    "\n",
    "    def vertex_count(self): \n",
    "        return len(self._vertices)\n",
    "\n",
    "    def edge_count(self): \n",
    "        return len(self._edges)\n",
    "\n",
    "    def vertices(self): \n",
    "        return self._vertices\n",
    "\n",
    "    def edges(self): # assuming edges are distinct\n",
    "        edges = set()\n",
    "        for edge in self._edges:\n",
    "            edges.add(edge[2])\n",
    "        return list(edges)\n",
    "\n",
    "    def get_edge(self, u, v): \n",
    "        for edge in self._edges:\n",
    "            if self.is_directed():\n",
    "                if edge[0] == u and edge[1] == v:\n",
    "                    return edge[2]\n",
    "            else:\n",
    "                if u in edge and v in edge:\n",
    "                    return edge[2]\n",
    "        return\n",
    "      \n",
    "    def degree(self, v, outgoing=True): \n",
    "        deg = 0\n",
    "        i = 0 if outgoing else 1\n",
    "        for edge in self._edges:\n",
    "            if self.is_directed():\n",
    "                if edge[i] == v:\n",
    "                    deg += 1\n",
    "            else:\n",
    "                if v in edge:\n",
    "                    deg += 1\n",
    "        return deg\n",
    "\n",
    "    def incident_edges(self, v, outgoing=True):\n",
    "        edges = []\n",
    "        i = 0 if outgoing else 1\n",
    "        for edge in self._edges:\n",
    "            if self.is_directed():\n",
    "                if edge[i] == v:\n",
    "                    edges.append(edge[2])\n",
    "            else:\n",
    "                if v in edge:\n",
    "                    edges.append(edge[2])\n",
    "        return edges\n",
    "\n",
    "    def insert_vertex(self, v): \n",
    "        self._vertices.append(v)\n",
    "\n",
    "    def remove_vertex(self, v):\n",
    "        self._vertices.remove(v)\n",
    "        self._edges = [x for x in self._edges if v not in x]\n",
    "\n",
    "    def insert_edge(self, u, v, x): \n",
    "        self._edges.append([u, v, x])\n",
    "\n",
    "# not O(1), haven't figured out how to achieve this\n",
    "    def remove_edge(self, u, v): \n",
    "        if self.is_directed():\n",
    "            self._edges = [x for x in self._edges if x[0] != u or x[1] != v]\n",
    "        else:\n",
    "            self._edges = [x for x in self._edges if u not in x or v not in x]\n",
    "            "
   ]
  }
 ],
 "metadata": {
  "kernelspec": {
   "display_name": "Python 3",
   "language": "python",
   "name": "python3"
  },
  "language_info": {
   "codemirror_mode": {
    "name": "ipython",
    "version": 3
   },
   "file_extension": ".py",
   "mimetype": "text/x-python",
   "name": "python",
   "nbconvert_exporter": "python",
   "pygments_lexer": "ipython3",
   "version": "3.7.2"
  }
 },
 "nbformat": 4,
 "nbformat_minor": 4
}
