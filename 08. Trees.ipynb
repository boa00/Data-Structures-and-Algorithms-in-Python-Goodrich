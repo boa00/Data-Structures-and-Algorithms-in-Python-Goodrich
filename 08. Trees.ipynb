{
 "cells": [
  {
   "cell_type": "markdown",
   "metadata": {},
   "source": [
    "# Chapter 8. Trees"
   ]
  },
  {
   "cell_type": "markdown",
   "metadata": {},
   "source": [
    "The chapter introduces Trees as a concept. Unfortunately, there are not many interesting coding problems. And most of them are based on Tree ADT's described in the chapter, which I don't find interesting or useful but rather overcomplicated. Especially taking into account that trees implementations are discussed in detail in the following chapters (search trees, heaps, etc.). For these reasons, I don't have a lot of code here."
   ]
  },
  {
   "cell_type": "markdown",
   "metadata": {},
   "source": [
    "## Important Algorithms and Data Structures"
   ]
  },
  {
   "cell_type": "code",
   "execution_count": 1,
   "metadata": {},
   "outputs": [],
   "source": [
    "# Queue class is used for the level order traversal of a tree\n",
    "class Queue:\n",
    "  \n",
    "    MAX_CAPACITY = 10\n",
    "    \n",
    "    def __init__(self):\n",
    "        self._data = [None] * self.MAX_CAPACITY\n",
    "        self._lead = 0\n",
    "        self._size = 0\n",
    "\n",
    "    def __len__(self):\n",
    "        return self._size\n",
    "\n",
    "    def is_empty(self):\n",
    "        return self._size == 0\n",
    "\n",
    "    def first(self):\n",
    "        if self.is_empty():\n",
    "            raise Empty('The queue is empty')\n",
    "        return self._data[self._lead]\n",
    "\n",
    "    def dequeue(self):\n",
    "        if self.is_empty():\n",
    "            raise Empty('The queue is empty')\n",
    "        answer = self._data[self._lead]\n",
    "        self._data[self._lead] = None\n",
    "        self._lead = (self._lead + 1) % len(self._data)\n",
    "        self._size -= 1\n",
    "        return answer\n",
    "\n",
    "    def enqueue(self, v):\n",
    "        if len(self._data) == self._size:\n",
    "            resize(2 * len(self._data))\n",
    "        end = (self._lead + self._size) % len(self._data)\n",
    "        self._data[end] = v\n",
    "        self._size += 1\n",
    "    \n",
    "    def resize(self, c):\n",
    "        old = self._data\n",
    "        self._data = [None] * c\n",
    "        curr = self._lead\n",
    "        for i in range(self._size):\n",
    "            self._data[i] = old[curr]\n",
    "            curr = (curr + 1) % len(old)\n",
    "        self_lead = 0\n",
    "\n",
    "class Node:\n",
    "\n",
    "    def __init__(self, val):\n",
    "        self.val = val\n",
    "        self.left = None\n",
    "        self.right = None\n",
    "\n",
    "class BinaryTree:\n",
    "\n",
    "    def __init__(self, root_val):\n",
    "        self.root = Node(root_val)\n",
    "    \n",
    "t = BinaryTree(1)\n",
    "t.root.left = Node(2)\n",
    "t.root.right = Node(3)\n",
    "t.root.left.left = Node(4)\n",
    "t.root.left.right = Node(5)\n",
    "t.root.right.left = Node(6)\n",
    "\n",
    "#           1\n",
    "#         /   \\\n",
    "#       2     3\n",
    "#     /  \\   /\n",
    "#   4    5  6\n",
    "\n",
    "# Preorder Traversal of a tree\n",
    "def preorder(current):\n",
    "    if current:\n",
    "        print(current.val)\n",
    "        preorder(current.left)\n",
    "        preorder(current.right)\n",
    "        \n",
    "# Postorder Traversal of a tree\n",
    "def postorder(current):\n",
    "    if current:\n",
    "        postorder(current.left)\n",
    "        postorder(current.right)\n",
    "        print(current.val)\n",
    "\n",
    "# Inorder Traversal of a tree        \n",
    "def inorder(current):\n",
    "    if current:\n",
    "        inorder(current.left)\n",
    "        print(current.val)\n",
    "        inorder(current.right)\n",
    "    \n",
    "# Level Order Traversal of a tree\n",
    "def level_order(T):\n",
    "    q = Queue()\n",
    "    q.enqueue(T.root)\n",
    "    while not q.is_empty():\n",
    "        current = q.first()\n",
    "        print(current.val)\n",
    "        if current.left:\n",
    "            q.enqueue(current.left) \n",
    "        if current.right:\n",
    "            q.enqueue(current.right) \n",
    "        q.dequeue()\n",
    "        "
   ]
  },
  {
   "cell_type": "markdown",
   "metadata": {},
   "source": [
    "## Reinforcement "
   ]
  },
  {
   "cell_type": "markdown",
   "metadata": {},
   "source": [
    "### R-8.5"
   ]
  },
  {
   "cell_type": "markdown",
   "metadata": {},
   "source": [
    "Describe an algorithm, relying only on the BinaryTree operations, that counts the number of leaves in a binary tree that are the left child of their respective parent."
   ]
  },
  {
   "cell_type": "code",
   "execution_count": 3,
   "metadata": {},
   "outputs": [],
   "source": [
    "def left_leaves(T):\n",
    "    count = 0\n",
    "    q = Queue()\n",
    "    q.enqueue(T.root)\n",
    "    while not q.is_empty():\n",
    "        current = q.first()\n",
    "        left = current.left\n",
    "        if left:\n",
    "            if not left.left and not left.right:\n",
    "                count += 1  \n",
    "        if current.left:\n",
    "            q.enqueue(current.left) \n",
    "        if current.right:\n",
    "            q.enqueue(current.right) \n",
    "        q.dequeue()\n",
    "    return count\n"
   ]
  }
 ],
 "metadata": {
  "kernelspec": {
   "display_name": "Python 3",
   "language": "python",
   "name": "python3"
  },
  "language_info": {
   "codemirror_mode": {
    "name": "ipython",
    "version": 3
   },
   "file_extension": ".py",
   "mimetype": "text/x-python",
   "name": "python",
   "nbconvert_exporter": "python",
   "pygments_lexer": "ipython3",
   "version": "3.7.2"
  }
 },
 "nbformat": 4,
 "nbformat_minor": 4
}
