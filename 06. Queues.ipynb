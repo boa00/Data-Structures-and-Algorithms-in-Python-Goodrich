{
 "cells": [
  {
   "cell_type": "markdown",
   "metadata": {},
   "source": [
    "# Chapter 6. Stacks, Queues, and Deques"
   ]
  },
  {
   "cell_type": "markdown",
   "metadata": {},
   "source": [
    "The chapter introduces three important data structures: Stacks, Queues, and Deques. It discusses their implementations, as well as time and space-complexity."
   ]
  },
  {
   "cell_type": "markdown",
   "metadata": {},
   "source": [
    "## Important Algorithms and Data Structures"
   ]
  },
  {
   "cell_type": "code",
   "execution_count": 1,
   "metadata": {},
   "outputs": [],
   "source": [
    "class Empty(Exception):\n",
    "    pass\n",
    "\n",
    "# Stack\n",
    "# it relies on the Python list for the storage of data\n",
    "class Stack:\n",
    "\n",
    "    def __init__(self):\n",
    "        self._data = []\n",
    "\n",
    "    def __len__(self):\n",
    "        return len(self._data)\n",
    "\n",
    "    def is_empty(self):\n",
    "        return len(self._data) == 0\n",
    "      \n",
    "    def top(self):\n",
    "        if self.is_empty():\n",
    "            raise Empty('The stack is empty')\n",
    "        return self._data[-1]\n",
    "\n",
    "    def push(self, v):\n",
    "        self._data.append(v)\n",
    "\n",
    "    def pop(self):\n",
    "        if self.is_empty == True:\n",
    "            raise Empty('The stack is empty')\n",
    "        return self._data.pop()\n",
    "    \n",
    "# Queue as described in the chapter (with resizable list)\n",
    "class Queue:\n",
    "  \n",
    "    MAX_CAPACITY = 10\n",
    "    \n",
    "    def __init__(self):\n",
    "        self._data = [None] * self.MAX_CAPACITY\n",
    "        self._lead = 0\n",
    "        self._size = 0\n",
    "\n",
    "    def __len__(self):\n",
    "        return self._size\n",
    "\n",
    "    def is_empty(self):\n",
    "        return self._size == 0\n",
    "\n",
    "    def first(self):\n",
    "        if self.is_empty():\n",
    "            raise Empty('The queue is empty')\n",
    "        return self._data[self._lead]\n",
    "\n",
    "    def dequeue(self):\n",
    "        if self.is_empty():\n",
    "            raise Empty('The queue is empty')\n",
    "        answer = self._data[self._lead]\n",
    "        self._data[self._lead] = None\n",
    "        self._lead = (self._lead + 1) % len(self._data)\n",
    "        self._size -= 1\n",
    "        return answer\n",
    "\n",
    "    def enqueue(self, v):\n",
    "        if len(self._data) == self._size:\n",
    "            resize(2 * len(self._data))\n",
    "        end = (self._lead + self._size) % len(self._data)\n",
    "        self._data[end] = v\n",
    "        self._size += 1\n",
    "    \n",
    "    def resize(self, c):\n",
    "        old = self._data\n",
    "        self._data = [None] * c\n",
    "        curr = self._lead\n",
    "        for i in range(self._size):\n",
    "            self._data[i] = old[curr]\n",
    "            curr = (curr + 1) % len(old)\n",
    "        self_lead = 0\n",
    "        "
   ]
  },
  {
   "cell_type": "markdown",
   "metadata": {},
   "source": [
    "## Reinforcement "
   ]
  },
  {
   "cell_type": "markdown",
   "metadata": {},
   "source": [
    "### R-6.3"
   ]
  },
  {
   "cell_type": "markdown",
   "metadata": {},
   "source": [
    "Implement a function with signature transfer(S, T) that transfers all elements from stack ${S}$ onto stack ${T}$, so that the element that starts at the top of ${S}$ is the first to be inserted onto ${T}$, and the element at the bottom of ${S}$ ends up at the top of ${T}$."
   ]
  },
  {
   "cell_type": "code",
   "execution_count": 2,
   "metadata": {},
   "outputs": [],
   "source": [
    "def transfer(S, T):\n",
    "    while len(S) > 0:\n",
    "        T.push(S.pop())\n",
    "    return T\n"
   ]
  },
  {
   "cell_type": "markdown",
   "metadata": {},
   "source": [
    "### R-6.4"
   ]
  },
  {
   "cell_type": "markdown",
   "metadata": {},
   "source": [
    "Give a recursive method for removing all the elements from a stack."
   ]
  },
  {
   "cell_type": "code",
   "execution_count": 3,
   "metadata": {},
   "outputs": [],
   "source": [
    "def clear_stack(S):\n",
    "    n = len(S)\n",
    "    if n == 0:\n",
    "        return S\n",
    "    S.pop()\n",
    "    return clear_stack(S)\n"
   ]
  },
  {
   "cell_type": "markdown",
   "metadata": {},
   "source": [
    "### R-6.5"
   ]
  },
  {
   "cell_type": "markdown",
   "metadata": {},
   "source": [
    "Implement a function that reverses a list of elements by pushing them onto a stack in one order, and writing them back to the list in reversed order."
   ]
  },
  {
   "cell_type": "code",
   "execution_count": 4,
   "metadata": {},
   "outputs": [],
   "source": [
    "def reverse_with_stack(A):\n",
    "    n = len(A)\n",
    "    reversed_A = [0] * n\n",
    "    s = Stack()\n",
    "    for i in range(n):\n",
    "        s.push(A[i])\n",
    "    for j in range(n):\n",
    "        reversed_A[j] = s.pop()\n",
    "    return reversed_A\n"
   ]
  },
  {
   "cell_type": "markdown",
   "metadata": {},
   "source": [
    "### R-6.6"
   ]
  },
  {
   "cell_type": "markdown",
   "metadata": {},
   "source": [
    "Give a precise and complete definition of the concept of matching for grouping symbols in an arithmetic expression. Your definition may be recursive."
   ]
  },
  {
   "cell_type": "code",
   "execution_count": 5,
   "metadata": {},
   "outputs": [],
   "source": [
    "# it may be recursive but mine isn't \n",
    "# note that it only checks for brackets and not signs like +, -, etc.\n",
    "def is_matched(expr):\n",
    "    left = '[{('\n",
    "    right = ']})'\n",
    "    s = Stack()\n",
    "    for elem in expr:\n",
    "        if elem in left:\n",
    "            s.push(elem)\n",
    "        elif elem in right:\n",
    "            if s.is_empty():\n",
    "                return False\n",
    "            if right.index(elem) != left.index(s.pop()):\n",
    "                return False\n",
    "    return s.is_empty()\n"
   ]
  },
  {
   "cell_type": "markdown",
   "metadata": {},
   "source": [
    "### R-6.11"
   ]
  },
  {
   "cell_type": "markdown",
   "metadata": {},
   "source": [
    "Give a simple adapter that implements our queue ADT while using a collections.deque instance for storage."
   ]
  },
  {
   "cell_type": "code",
   "execution_count": 6,
   "metadata": {},
   "outputs": [],
   "source": [
    "from collections import deque\n",
    "\n",
    "class Queue_collections:\n",
    "    \n",
    "    def __init__(self):\n",
    "        self._data = deque()\n",
    "        self._size = 0\n",
    "        \n",
    "    def __len__(self):\n",
    "        return self._size\n",
    "    \n",
    "    def is_empty(self):\n",
    "        return self._size == 0\n",
    "    \n",
    "    def first(self):\n",
    "        if self.is_empty():\n",
    "            raise Empty('The stack is empty') \n",
    "        return self._data[0]\n",
    "    \n",
    "    def enqueue(self, e):\n",
    "        self._data.append(e)\n",
    "        self._size += 1\n",
    "    \n",
    "    def dequeue(self):\n",
    "        if self.is_empty():\n",
    "            raise Empty('The stack is empty')\n",
    "        self._size -= 1\n",
    "        return self._data.popleft()\n",
    "        "
   ]
  },
  {
   "cell_type": "markdown",
   "metadata": {},
   "source": [
    "### R-6.13"
   ]
  },
  {
   "cell_type": "markdown",
   "metadata": {},
   "source": [
    "Suppose you have a deque ${D}$ containing the numbers ${(1,2,3,4,5,6,7,8)}$, in this order. Suppose further that you have an initially empty queue ${Q}$. Give a code fragment that uses only ${D}$ and ${Q}$ (and no other variables) and results in ${D}$ storing the elements in the order ${(1,2,3,5,4,6,7,8)}$."
   ]
  },
  {
   "cell_type": "markdown",
   "metadata": {},
   "source": [
    "### R-6.14"
   ]
  },
  {
   "cell_type": "markdown",
   "metadata": {},
   "source": [
    "Repeat the previous problem using the deque ${D}$ and an initially empty stack ${S}$."
   ]
  },
  {
   "cell_type": "code",
   "execution_count": 7,
   "metadata": {},
   "outputs": [],
   "source": [
    "# kind of weird tasks, I guess they wanted me to transfer items from dequeue to queue and back\n",
    "from collections import deque\n",
    "\n",
    "def Q_to_D(D, Q):\n",
    "    n = len(D)\n",
    "    for i in range(n):\n",
    "        Q.enqueue(D.popleft())\n",
    "    for i in range(n):\n",
    "        D.append(Q.dequeue())\n",
    "    return D\n",
    "\n",
    "def S_to_D(D, S):\n",
    "    n = len(D)\n",
    "    for i in range(n):\n",
    "        S.push(D.pop())\n",
    "    for i in range(n):\n",
    "        D.append(S.pop())\n",
    "    return D\n",
    "    "
   ]
  },
  {
   "cell_type": "markdown",
   "metadata": {},
   "source": [
    "## Creativity"
   ]
  },
  {
   "cell_type": "markdown",
   "metadata": {},
   "source": [
    "### C-6.18"
   ]
  },
  {
   "cell_type": "markdown",
   "metadata": {},
   "source": [
    "Show how to use the transfer function, described in Exercise R-6.3, and two temporary stacks, to replace the contents of a given stack ${S}$ with those same elements, but in reversed order."
   ]
  },
  {
   "cell_type": "code",
   "execution_count": 17,
   "metadata": {},
   "outputs": [],
   "source": [
    "# cell with R-6.3 has to be activated for this to work\n",
    "# using 2 temporary stacks\n",
    "def reverse_stack(S):\n",
    "    S_temp1 = Stack()\n",
    "    S_temp2 = Stack()\n",
    "    S_temp1 = transfer(S, S_temp1)\n",
    "    S_temp2 = transfer(S_temp1, S_temp2)\n",
    "    return transfer(S_temp2, S)\n",
    "    \n",
    "# you can do it with one temporary stack, I guess\n",
    "# perhaps I just don't understand the task correctly\n",
    "def reverse_stack_one(S):\n",
    "    S_reversed = Stack()\n",
    "    return transfer(S, S_reversed)\n"
   ]
  },
  {
   "cell_type": "markdown",
   "metadata": {},
   "source": [
    "### C-6.22"
   ]
  },
  {
   "cell_type": "markdown",
   "metadata": {},
   "source": [
    "Postfix notation is an unambiguous way of writing an arithmetic expression without parentheses. It is defined so that if “(exp1)op(exp2)” is a normal, fully parenthesized expression whose operation is op, the postfix version of this is “pexp1 pexp2 op”, where pexp1 is the postfix version of exp1 and pexp2 is the postfix version of exp2. The postfix version of a single number or variable is just that number or variable. For example, the postfix version of “((5+2) ∗ (8−3))/4” is “5 2 + 8 3 − ∗ 4 /”. Describe a nonrecursive way of evaluating an expression in postfix notation"
   ]
  },
  {
   "cell_type": "code",
   "execution_count": 50,
   "metadata": {},
   "outputs": [],
   "source": [
    "# note that my version supports power sign only as '^' \n",
    "# the reason is that it would've been much harder to implement Python's '**'\n",
    "def postfix(expr):\n",
    "    s = Stack()\n",
    "    for v in expr:\n",
    "        if v in '+-/*^':\n",
    "            a = s.pop()\n",
    "            b = s.pop()\n",
    "            if v == '+':\n",
    "                s.push(b+a)\n",
    "            elif v == '-':\n",
    "                s.push(b-a)\n",
    "            elif v == '*':\n",
    "                s.push(b*a)\n",
    "            elif v == '/':                \n",
    "                s.push(b/a)\n",
    "            elif v == '^':\n",
    "                s.push(b**a)\n",
    "        else:\n",
    "            s.push(int(v))\n",
    "    return s.pop()\n"
   ]
  },
  {
   "cell_type": "markdown",
   "metadata": {},
   "source": [
    "### C-6.24"
   ]
  },
  {
   "cell_type": "markdown",
   "metadata": {},
   "source": [
    "Describe how to implement the stack ADT using a single queue as an instance variable, and only constant additional local memory within the method bodies. What is the running time of the push(), pop(), and top() methods for your design?"
   ]
  },
  {
   "cell_type": "code",
   "execution_count": 64,
   "metadata": {},
   "outputs": [],
   "source": [
    "class StackUsingQueue:\n",
    "\n",
    "    def __init__(self):\n",
    "        self._data = Queue()\n",
    "\n",
    "    def __len__(self):\n",
    "        return len(self._data)\n",
    "\n",
    "    def is_empty(self):\n",
    "        return len(self._data) == 0\n",
    "\n",
    "# O(n)\n",
    "# add to the beginning and reverse the rest of the queue\n",
    "    def push(self, v):\n",
    "        self._data.enqueue(v)\n",
    "        for i in range(1, len(self)):\n",
    "             self._data.enqueue(self._data.dequeue())\n",
    "        \n",
    "# O(1)\n",
    "    def top(self):\n",
    "        if self.is_empty():\n",
    "            raise Empty('The stack is empty')\n",
    "        return self._data.first()\n",
    "# O(1)\n",
    "    def pop(self):\n",
    "        if self.is_empty():\n",
    "            raise Empty('The stack is empty')\n",
    "        return self._data.dequeue()\n"
   ]
  },
  {
   "cell_type": "markdown",
   "metadata": {},
   "source": [
    "### C-6.25"
   ]
  },
  {
   "cell_type": "markdown",
   "metadata": {},
   "source": [
    "Describe how to implement the queue ADT using two stacks as instance variables, such that all queue operations execute in amortized ${O(1)}$ time. Give a formal proof of the amortized bound."
   ]
  },
  {
   "cell_type": "code",
   "execution_count": 80,
   "metadata": {},
   "outputs": [],
   "source": [
    "class QueueUsingStacks():\n",
    "\n",
    "    def __init__(self):\n",
    "        self.s1 = Stack()\n",
    "        self.s2 = Stack()\n",
    "\n",
    "    def __len__(self):\n",
    "        return len(self.s1)\n",
    "\n",
    "    def is_empty(self):\n",
    "        return len(self.s1) == 0\n",
    "  \n",
    "    def enqueue(self, v):\n",
    "        self.s1.push(v)\n",
    "\n",
    "    def first(self):\n",
    "        return self.s1._data[0]\n",
    "\n",
    "    def dequeue(self):\n",
    "        while len(self.s1) > 0:\n",
    "            v = self.s1.pop()\n",
    "            self.s2.push(v)\n",
    "        answer = self.s2.pop()\n",
    "        while len(self.s2) > 0:\n",
    "            v = self.s2.pop()\n",
    "            self.s1.push(v)\n",
    "        return answer\n"
   ]
  }
 ],
 "metadata": {
  "kernelspec": {
   "display_name": "Python 3",
   "language": "python",
   "name": "python3"
  },
  "language_info": {
   "codemirror_mode": {
    "name": "ipython",
    "version": 3
   },
   "file_extension": ".py",
   "mimetype": "text/x-python",
   "name": "python",
   "nbconvert_exporter": "python",
   "pygments_lexer": "ipython3",
   "version": "3.7.2"
  }
 },
 "nbformat": 4,
 "nbformat_minor": 4
}
