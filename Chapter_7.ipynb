{
 "cells": [
  {
   "cell_type": "markdown",
   "metadata": {},
   "source": [
    "# Chapter 7. Linked Lists"
   ]
  },
  {
   "cell_type": "markdown",
   "metadata": {},
   "source": [
    "The chapter focuses on the concept of a Linked List and its variations: Singly Linked List, Circular Linked List, Doubly Linked List, as well as discusses their efficiency. It also shows how the use of a Linked List can help to improve the efficiency of other data structures (stacks, queues, etc.)."
   ]
  },
  {
   "cell_type": "markdown",
   "metadata": {},
   "source": [
    "## Important Algorithms and Data Structures "
   ]
  },
  {
   "cell_type": "code",
   "execution_count": 1,
   "metadata": {},
   "outputs": [],
   "source": [
    "class Empty(Exception):\n",
    "    pass\n",
    "\n",
    "# here are some Linked List implementations \n",
    "# Note: only Doubly Linked List was implemented in the book\n",
    "# but I hope my code is good enough\n",
    "\n",
    "# in addition to standard methods, I allowed users to get the value of a particular node\n",
    "# the next (or previous, if allowed) node and header\n",
    "# I also added get_node() method which allows getting references to nodes by value, \n",
    "# as it is helpful for some tasks in the chapter\n",
    "\n",
    "# Singly Linked List\n",
    "# as Python doesn't have pointers, ._next variable of the Node class represents just that \n",
    "# note that I added a new method get_first() for simplicity of the task R-7.2\n",
    "class SinglyLinkedList:\n",
    "\n",
    "    class Node:\n",
    "\n",
    "        def __init__(self, val, next = None):\n",
    "            self._val = val\n",
    "            self._next = next\n",
    "            \n",
    "        def get_value(self):\n",
    "            return self._val\n",
    "        \n",
    "        def get_next(self):\n",
    "            return self._next\n",
    "\n",
    "    def __init__(self):\n",
    "        self._head = self.Node(None)\n",
    "        self._size = 0\n",
    "    \n",
    "    def head(self):\n",
    "        return self._head\n",
    "\n",
    "    def __len__(self):\n",
    "        return self._size\n",
    "\n",
    "    def is_empty(self):\n",
    "        return self._size == 0\n",
    "\n",
    "    def prepend(self, val):\n",
    "        new = self.Node(val)\n",
    "        if self.is_empty():\n",
    "            self._head = new\n",
    "            self._size += 1\n",
    "            return\n",
    "        new._next = self._head\n",
    "        self._head = new\n",
    "        self._size += 1\n",
    "\n",
    "    def append(self, val):\n",
    "        new = self.Node(val)\n",
    "        if self.is_empty():\n",
    "            self._head = new\n",
    "            self._size += 1\n",
    "            return\n",
    "        current = self._head\n",
    "        while current._next != None:\n",
    "            current = current._next\n",
    "        current._next = new\n",
    "        self._size += 1\n",
    "\n",
    "    def pop_first(self):\n",
    "        if self.is_empty():\n",
    "            raise Empty('The linked list is empty')\n",
    "        answer = self._head\n",
    "        self._head = answer._next\n",
    "        self._size -= 1\n",
    "        return answer\n",
    "\n",
    "    def pop(self):\n",
    "        if self.is_empty():\n",
    "            raise Empty('The linked list is empty')\n",
    "        if self._size == 1:\n",
    "            answer = self._head\n",
    "            self._head = self.Node(None)\n",
    "            self._size -= 1\n",
    "            return answer\n",
    "        current = self._head\n",
    "        while current._next._next is not None:\n",
    "            current = current._next\n",
    "        answer = current._next\n",
    "        current._next = None\n",
    "        self._size -= 1\n",
    "        return answer\n",
    "    \n",
    "    def get_node(self, val):\n",
    "        if self.is_empty():\n",
    "            raise Empty('The linked list is empty')\n",
    "        current = self._head\n",
    "        while current is not None:\n",
    "            if current._val == val:\n",
    "                return current\n",
    "            current = current._next\n",
    "        return\n",
    "    \n",
    "    def reverse_recursive(self):\n",
    "        return\n",
    "    \n",
    "    def reverse(self):\n",
    "        prev = None\n",
    "        current = self._head\n",
    "        while current is not None:\n",
    "            temp = current._next\n",
    "            current._next = prev\n",
    "            prev = current\n",
    "            current = temp\n",
    "        self._head = prev\n",
    "        \n",
    "# Circular Linked List\n",
    "# the principle is the same as for the Singly Linked List\n",
    "# the difference is that the last node points to the head of the list\n",
    "# appending/popping from left/right makes no sense (because it is a circle)\n",
    "# so there is one method for each\n",
    "class CircularLinkedList:\n",
    "\n",
    "    class _Node:\n",
    "\n",
    "        def __init__(self, val, next = None):\n",
    "            self._val = val\n",
    "            self._next = next\n",
    "            \n",
    "        def get_value(self):\n",
    "            return self._val\n",
    "        \n",
    "        def get_next(self):\n",
    "            return self._next\n",
    "\n",
    "    def __init__(self):\n",
    "        self._head = None\n",
    "        self._size = 0\n",
    "        \n",
    "    def head(self):\n",
    "        return self._head\n",
    "    \n",
    "    def __len__(self):\n",
    "        return self._size\n",
    "    \n",
    "    def is_empty(self):\n",
    "        return self._size == 0\n",
    "\n",
    "    def append(self, val):\n",
    "        new = self._Node(val)\n",
    "        if self.is_empty():\n",
    "            self._head = new\n",
    "            self._head._next = self._head\n",
    "            self._size += 1\n",
    "            return\n",
    "        current = self._head\n",
    "        while current._next != self._head:\n",
    "            current = current._next\n",
    "        current._next = new\n",
    "        new._next = self._head\n",
    "        self._size += 1\n",
    "\n",
    "    def pop(self):\n",
    "        if self.is_empty():\n",
    "            raise Empty('The linked list is empty')\n",
    "        current = self._head\n",
    "        while current._next._next != self._head:\n",
    "            current = current._next\n",
    "        answer = current._next\n",
    "        current._next = self._head\n",
    "        self._size -= 1\n",
    "        return answer\n",
    "    \n",
    "    def len_slow(self):\n",
    "        if self._head is None:\n",
    "            return 0\n",
    "        counter = 1\n",
    "        current = self._head\n",
    "        while current._next != self._head:\n",
    "            counter += 1\n",
    "            current = current._next\n",
    "        return counter\n",
    "    \n",
    "    def get_node(self, val):\n",
    "        if self.is_empty():\n",
    "            raise Empty('The linked list is empty')\n",
    "        if self._head._val == val:\n",
    "            return self._head\n",
    "        current = self._head._next\n",
    "        while current is not self._head:\n",
    "            if current._val == val:\n",
    "                return current\n",
    "            current = current._next \n",
    "        return\n",
    "        \n",
    "# Doubly Linked List\n",
    "# the same principle as in the Singly Linked List\n",
    "# but it also stores a reference to the previous node\n",
    "# because of that some methods get kind of ugly\n",
    "# as we need to change a lot of 'pointers' if we change the linked list \n",
    "class DoublyLinkedList:\n",
    "\n",
    "    class _Node:\n",
    "    \n",
    "        def __init__(self, val, prev = None, next = None):\n",
    "            self._val = val\n",
    "            self._prev = prev\n",
    "            self._next = next\n",
    "            \n",
    "        def get_value(self):\n",
    "            return self._val\n",
    "        \n",
    "        def get_next(self):\n",
    "            return self._next\n",
    "        \n",
    "        def get_previous(self):\n",
    "            return self._prev\n",
    "\n",
    "    def __init__(self):\n",
    "        self._header = self._Node(None)\n",
    "        self._trailer = self._Node(None)\n",
    "        self._size = 0\n",
    "\n",
    "    def header(self):\n",
    "        return self._header\n",
    "    \n",
    "    def trailer(self):\n",
    "        return self._trailer\n",
    "    \n",
    "    def __len__(self):\n",
    "        return self._size\n",
    "\n",
    "    def is_empty(self):\n",
    "        return self._size == 0\n",
    "\n",
    "    def append(self, val):\n",
    "        new = self._Node(val)\n",
    "        if self.is_empty():\n",
    "            self._header._next = new\n",
    "            self._trailer._prev = new\n",
    "            new._prev = self._header\n",
    "            new._next = self._trailer\n",
    "            self._size += 1\n",
    "            return\n",
    "        current = self._header._next\n",
    "        while current._next != self._trailer:\n",
    "            current = current._next\n",
    "        current._next = new\n",
    "        self._trailer._prev = new\n",
    "        new._next = self._trailer\n",
    "        new._prev = current\n",
    "        self._size += 1\n",
    "\n",
    "    def prepend(self, val):\n",
    "        new = self._Node(val)\n",
    "        if self.is_empty():\n",
    "            self._header._next = new\n",
    "            self._trailer._prev = new\n",
    "            new._prev = self._header\n",
    "            new._next = self._trailer\n",
    "            self._size += 1\n",
    "            return\n",
    "        start = self._header._next\n",
    "        self._header._next = new\n",
    "        start._prev = new\n",
    "        new._prev = self._header\n",
    "        new._next = start\n",
    "        self._size += 1\n",
    "\n",
    "    def pop(self):\n",
    "        if self.is_empty():\n",
    "            raise Empty('The linked list is empty')           \n",
    "        last = self._trailer._prev\n",
    "        last._prev._next = self._trailer\n",
    "        self._trailer._prev = last._prev\n",
    "        self._size -= 1\n",
    "        return last\n",
    "\n",
    "    def pop_first(self):\n",
    "        if self.is_empty():\n",
    "            raise Empty('The linked list is empty')\n",
    "        first = self._header._next\n",
    "        first._next._prev = self._header\n",
    "        self._header._next = first._next\n",
    "        self._size -= 1\n",
    "        return first\n",
    "\n",
    "    def insert(self, node, after, before):\n",
    "        new = self._Node(node, after, before)\n",
    "        after._next = new\n",
    "        before._prev = new\n",
    "        self._size += 1\n",
    "\n",
    "    def delete_node(self, node):\n",
    "        answer = node\n",
    "        prev = node._prev\n",
    "        next = node._next\n",
    "        prev._next = next\n",
    "        next._prev = prev\n",
    "        node._prev = node._next = node._val = None\n",
    "        self._size -= 1\n",
    "        return answer\n",
    "    \n",
    "    def get_node(self, val):\n",
    "        if self.is_empty():\n",
    "            raise Empty('The linked list is empty')\n",
    "        current = self._header._next\n",
    "        while current is not self._trailer:\n",
    "            if current._val == val:\n",
    "                return current\n",
    "            current = current._next\n",
    "        return\n",
    "        "
   ]
  },
  {
   "cell_type": "markdown",
   "metadata": {},
   "source": [
    "## Reinforcement"
   ]
  },
  {
   "cell_type": "markdown",
   "metadata": {},
   "source": [
    "### R-7.1"
   ]
  },
  {
   "cell_type": "markdown",
   "metadata": {},
   "source": [
    "Give an algorithm for finding the second-to-last node in a singly linked list in which the last node is indicated by a next reference of None."
   ]
  },
  {
   "cell_type": "code",
   "execution_count": 3,
   "metadata": {},
   "outputs": [],
   "source": [
    "def second_to_last(L):\n",
    "    if len(L) < 2:\n",
    "        return\n",
    "    current = L.head\n",
    "    while current.next.next != None:\n",
    "        current = current.next\n",
    "    return current.val\n"
   ]
  },
  {
   "cell_type": "markdown",
   "metadata": {},
   "source": [
    "### R-7.2"
   ]
  },
  {
   "cell_type": "markdown",
   "metadata": {},
   "source": [
    "Describe a good algorithm for concatenating two singly linked lists ${L}$ and ${M}$, given only references to the first node of each list, into a single list ${L'}$ that contains all the nodes of ${L}$ followed by all the nodes of ${M}$."
   ]
  },
  {
   "cell_type": "code",
   "execution_count": 4,
   "metadata": {},
   "outputs": [],
   "source": [
    "# Input: concatenating(L.get_first(), M.get_first())\n",
    "# O(len[L] + len[M]) time and space complexity, I guess that what the ment by 'good' algorithm\n",
    "def concatenating_singly(L_first, M_first):\n",
    "    L_M = SinglyLinkedList()\n",
    "    current_M = M_first\n",
    "    current_L = L_first\n",
    "    while current_L is not None:\n",
    "        L_M.append(current_L.get_value())\n",
    "        current_L = current_L.get_next()\n",
    "    while current_M is not None:\n",
    "        L_M.append(current_M.get_value())\n",
    "        current_M = current_M.get_next()\n",
    "    return L_M\n",
    "    "
   ]
  },
  {
   "cell_type": "markdown",
   "metadata": {},
   "source": [
    "### R-7.3"
   ]
  },
  {
   "cell_type": "markdown",
   "metadata": {},
   "source": [
    "Describe a recursive algorithm that counts the number of nodes in a singly linked list."
   ]
  },
  {
   "cell_type": "code",
   "execution_count": 5,
   "metadata": {},
   "outputs": [],
   "source": [
    "def len_recursive(L):\n",
    "    size = 0\n",
    "    if L.head().get_next() is None:\n",
    "        return 1\n",
    "    L.pop_first()\n",
    "    size += 1\n",
    "    return size + len_recursive(L)\n"
   ]
  },
  {
   "cell_type": "markdown",
   "metadata": {},
   "source": [
    "### R-7.5"
   ]
  },
  {
   "cell_type": "markdown",
   "metadata": {},
   "source": [
    "Implement a function that counts the number of nodes in a circularly linked list."
   ]
  },
  {
   "cell_type": "code",
   "execution_count": 136,
   "metadata": {},
   "outputs": [],
   "source": [
    "# I implemented counter in the class, so you can just use that \n",
    "# but we are playing the 'algorithm game' here\n",
    "# so I implemented it right in the class as a method len_slow()\n"
   ]
  },
  {
   "cell_type": "markdown",
   "metadata": {},
   "source": [
    "### R-7.6"
   ]
  },
  {
   "cell_type": "markdown",
   "metadata": {},
   "source": [
    "Suppose that ${x}$ and ${y}$ are references to nodes of circularly linked lists, although not necessarily the same list. Describe a fast algorithm for telling if ${x}$ and ${y}$ belong to the same list."
   ]
  },
  {
   "cell_type": "code",
   "execution_count": 137,
   "metadata": {},
   "outputs": [],
   "source": [
    "def belong_to(x, y):\n",
    "    if x is y:\n",
    "        return True\n",
    "    current = x.get_next()\n",
    "    while current is not x:\n",
    "        if current is y:\n",
    "            return True \n",
    "        current = current.get_next()\n",
    "    return False\n"
   ]
  },
  {
   "cell_type": "markdown",
   "metadata": {},
   "source": [
    "### R-7.8"
   ]
  },
  {
   "cell_type": "markdown",
   "metadata": {},
   "source": [
    "Describe a nonrecursive method for finding, by link hopping, the middle node of a doubly linked list with header and trailer sentinels. In the case of an even number of nodes, report the node slightly left of center as the “middle.” (Note: This method must only use link hopping; it cannot use a counter.) What is the running time of this method?"
   ]
  },
  {
   "cell_type": "code",
   "execution_count": 104,
   "metadata": {},
   "outputs": [],
   "source": [
    "# O(n) running time, where n is the size of a doubly linked lisk\n",
    "def middle(L):\n",
    "    begin = L.header().get_next()\n",
    "    end = L.trailer().get_previous()\n",
    "    while True:\n",
    "        if begin.get_next() == end.get_previous():\n",
    "            return begin.get_next()\n",
    "        if begin.get_next() == end:\n",
    "            return begin\n",
    "        begin = begin.get_next()\n",
    "        end = end.get_previous()\n"
   ]
  },
  {
   "cell_type": "markdown",
   "metadata": {},
   "source": [
    "### R-7.9"
   ]
  },
  {
   "cell_type": "markdown",
   "metadata": {},
   "source": [
    "Give a fast algorithm for concatenating two doubly linked lists ${L}$ and ${M}$, with header and trailer sentinel nodes, into a single list ${L'}$."
   ]
  },
  {
   "cell_type": "code",
   "execution_count": 117,
   "metadata": {},
   "outputs": [],
   "source": [
    "# a little bit unsure about the input, but I guess the meant we are given\n",
    "# header and trailer of both L and M\n",
    "def concatenating_doubly(L_header, L_trailer, M_header, M_trailer):\n",
    "    L_M = DoublyLinkedList()\n",
    "    current_L = L_header.get_next()\n",
    "    current_M = M_header.get_next()\n",
    "    while current_L is not L_trailer:\n",
    "        L_M.append(current_L.get_value())\n",
    "        current_L = current_L.get_next()\n",
    "    while current_M is not M_trailer:\n",
    "        L_M.append(current_M.get_value())\n",
    "        current_M = current_M.get_next()\n",
    "    return L_M\n"
   ]
  },
  {
   "cell_type": "markdown",
   "metadata": {},
   "source": [
    "## Creativity"
   ]
  },
  {
   "cell_type": "markdown",
   "metadata": {},
   "source": [
    "### C-7.24"
   ]
  },
  {
   "cell_type": "markdown",
   "metadata": {},
   "source": [
    "Give a complete implementation of the stack ADT using a singly linked list that includes a header sentinel."
   ]
  },
  {
   "cell_type": "code",
   "execution_count": 196,
   "metadata": {},
   "outputs": [],
   "source": [
    "class SinglyLinkedListHeader:\n",
    "\n",
    "    class _Node:\n",
    "\n",
    "        def __init__(self, val, next = None):\n",
    "            self._val = val\n",
    "            self._next = next\n",
    "            \n",
    "        def get_value(self):\n",
    "            return self._val\n",
    "        \n",
    "        def get_next(self):\n",
    "            return self._next\n",
    "\n",
    "    def __init__(self):\n",
    "        self._header = self._Node(None)\n",
    "        self._size = 0\n",
    "\n",
    "    def __len__(self):\n",
    "        return self._size\n",
    "\n",
    "    def is_empty(self):\n",
    "        return self._size == 0\n",
    "    \n",
    "    def prepend(self, val):\n",
    "        new = self._Node(val)\n",
    "        if self.is_empty():\n",
    "            self._header._next = new\n",
    "            self._size += 1\n",
    "            return\n",
    "        new._next = self._header._next\n",
    "        self._header._next = new\n",
    "        self._size += 1\n",
    "        \n",
    "    def append(self, val):\n",
    "        new = self._Node(val)\n",
    "        if self.is_empty():\n",
    "            self._header._next = new\n",
    "            self._size += 1\n",
    "            return\n",
    "        current = self._header._next\n",
    "        while current._next is not None:\n",
    "            current = current._next\n",
    "        current._next = new\n",
    "        self._size += 1\n",
    "        \n",
    "    def pop_first(self):\n",
    "        if self.is_empty():\n",
    "            raise Empty('The linked list is empty')\n",
    "        answer = self._header._next\n",
    "        self._header._next = answer._next\n",
    "        self._size -= 1\n",
    "        return answer\n",
    "\n",
    "    def pop(self):\n",
    "        if self.is_empty():\n",
    "            raise Empty('The linked list is empty')\n",
    "        if self._size == 1:\n",
    "            answer = self._header._next\n",
    "            self._header._next = None\n",
    "            self._size -= 1\n",
    "            return answer\n",
    "        current = self._header._next\n",
    "        while current._next._next is not None:\n",
    "            current = current._next\n",
    "        answer = current._next\n",
    "        current._next = None\n",
    "        self._size -= 1\n",
    "        return answer\n",
    "    \n",
    "    def get_first(self):\n",
    "        if self.is_empty():\n",
    "            raise Empty('The linked list is empty')\n",
    "        return self._header._next\n",
    "       \n",
    "class LinkedStack:\n",
    "\n",
    "    def __init__(self):\n",
    "        self._data = SinglyLinkedListHeader()\n",
    "\n",
    "    def __len__(self):\n",
    "        return len(self._data)\n",
    "\n",
    "    def is_empty(self):\n",
    "        return len(self._data) == 0\n",
    "\n",
    "    def push(self, val):\n",
    "        self._data.prepend(val)\n",
    "\n",
    "    def top(self):\n",
    "        if self.is_empty():\n",
    "            raise Empty('The stack is empty')\n",
    "        return self._data.get_first().get_value()\n",
    "\n",
    "    def pop(self):\n",
    "        if self.is_empty():\n",
    "            raise Empty('The stack is empty')\n",
    "        return self._data.pop_first().get_value()\n",
    "    "
   ]
  },
  {
   "cell_type": "markdown",
   "metadata": {},
   "source": [
    "### C-7.25"
   ]
  },
  {
   "cell_type": "markdown",
   "metadata": {},
   "source": [
    "Give a complete implementation of the queue ADT using a singly linked list that includes a header sentinel."
   ]
  },
  {
   "cell_type": "code",
   "execution_count": 210,
   "metadata": {},
   "outputs": [],
   "source": [
    "# note that the previous cell with the SinglyLinkedListHeader class \n",
    "# should be activated for this to work\n",
    "class LinkedQueue:\n",
    "    \n",
    "    def __init__(self):\n",
    "        self._data = SinglyLinkedListHeader()\n",
    "\n",
    "    def __len__(self):\n",
    "        return len(self._data)\n",
    "\n",
    "    def is_empty(self):\n",
    "        return len(self._data) == 0\n",
    "\n",
    "    def enqueue(self, val):\n",
    "        self._data.append(val)\n",
    "\n",
    "    def first(self):\n",
    "        if self.is_empty():\n",
    "            raise Empty('The stack is empty')\n",
    "        return self._data.get_first().get_value()\n",
    "\n",
    "    def dequeue(self):\n",
    "        if self.is_empty():\n",
    "            raise Empty('The stack is empty')\n",
    "        return self._data.pop_first().get_value()\n",
    "# C-7.26   \n",
    "    def concatenate(self, Q2):\n",
    "        while not Q2.is_empty():\n",
    "            self.enqueue(Q2.dequeue())\n",
    "             "
   ]
  },
  {
   "cell_type": "markdown",
   "metadata": {},
   "source": [
    "### C-7.26"
   ]
  },
  {
   "cell_type": "markdown",
   "metadata": {},
   "source": [
    "Implement a method, concatenate(Q2) for the LinkedQueue class that takes all elements of LinkedQueue Q2 and appends them to the end of the original queue. The operation should run in ${O(1)}$ time and should result in Q2 being an empty queue."
   ]
  },
  {
   "cell_type": "code",
   "execution_count": 211,
   "metadata": {},
   "outputs": [],
   "source": [
    "# see the sell for C-7.25, I implemented it in the LinkedQueue as a methode concatenate(Q2)\n"
   ]
  },
  {
   "cell_type": "markdown",
   "metadata": {},
   "source": [
    "### C-7.28"
   ]
  },
  {
   "cell_type": "markdown",
   "metadata": {},
   "source": [
    "Describe a fast recursive algorithm for reversing a singly linked list."
   ]
  },
  {
   "cell_type": "code",
   "execution_count": null,
   "metadata": {},
   "outputs": [],
   "source": []
  },
  {
   "cell_type": "markdown",
   "metadata": {},
   "source": [
    "### C-7.29"
   ]
  },
  {
   "cell_type": "markdown",
   "metadata": {},
   "source": [
    "Describe in detail an algorithm for reversing a singly linked list ${L}$ using only a constant amount of additional space and not using any recursion."
   ]
  },
  {
   "cell_type": "code",
   "execution_count": null,
   "metadata": {},
   "outputs": [],
   "source": []
  }
 ],
 "metadata": {
  "kernelspec": {
   "display_name": "Python 3",
   "language": "python",
   "name": "python3"
  },
  "language_info": {
   "codemirror_mode": {
    "name": "ipython",
    "version": 3
   },
   "file_extension": ".py",
   "mimetype": "text/x-python",
   "name": "python",
   "nbconvert_exporter": "python",
   "pygments_lexer": "ipython3",
   "version": "3.7.2"
  }
 },
 "nbformat": 4,
 "nbformat_minor": 4
}
